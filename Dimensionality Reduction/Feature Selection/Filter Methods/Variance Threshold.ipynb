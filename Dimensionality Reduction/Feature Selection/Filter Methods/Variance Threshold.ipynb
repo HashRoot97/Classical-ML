{
 "cells": [
  {
   "cell_type": "code",
   "execution_count": 1,
   "metadata": {},
   "outputs": [],
   "source": [
    "from sklearn.datasets import load_iris\n",
    "from sklearn.feature_selection import VarianceThreshold\n",
    "import numpy as np\n",
    "import warnings \n",
    "from sklearn.model_selection import train_test_split\n",
    "from sklearn.svm import SVC\n",
    "warnings.filterwarnings('ignore')"
   ]
  },
  {
   "cell_type": "code",
   "execution_count": 2,
   "metadata": {},
   "outputs": [
    {
     "name": "stdout",
     "output_type": "stream",
     "text": [
      "(150, 4) (150,)\n"
     ]
    }
   ],
   "source": [
    "data = load_iris()\n",
    "data_X = data.data\n",
    "data_Y = data.target\n",
    "print(data_X.shape, data_Y.shape)"
   ]
  },
  {
   "cell_type": "code",
   "execution_count": 3,
   "metadata": {},
   "outputs": [
    {
     "name": "stdout",
     "output_type": "stream",
     "text": [
      "(120, 4)\n",
      "(30, 4)\n",
      "(120,)\n",
      "(30,)\n",
      "Original Dimensionality : 4\n"
     ]
    }
   ],
   "source": [
    "train_X, test_X, train_Y, test_Y = train_test_split(data_X, data_Y, test_size=0.2, random_state=42)\n",
    "print(train_X.shape, test_X.shape, train_Y.shape, test_Y.shape, sep='\\n')\n",
    "print('Original Dimensionality : {}'.format(train_X.shape[1]))"
   ]
  },
  {
   "cell_type": "code",
   "execution_count": 4,
   "metadata": {},
   "outputs": [
    {
     "name": "stdout",
     "output_type": "stream",
     "text": [
      "(120, 3)\n",
      "(30, 3)\n",
      "(150, 3)\n",
      "New Dimensionality : 3\n"
     ]
    }
   ],
   "source": [
    "sel = VarianceThreshold(threshold=(.7 * (1 - .7)))\n",
    "new_train_X = sel.fit_transform(train_X)\n",
    "print(new_train_X.shape)\n",
    "new_test_X = sel.fit_transform(test_X)\n",
    "print(new_test_X.shape)\n",
    "new_data_X = sel.fit_transform(data_X)\n",
    "print(new_data_X.shape)\n",
    "print('New Dimensionality : {}'.format(new_train_X.shape[1]))"
   ]
  },
  {
   "cell_type": "code",
   "execution_count": 5,
   "metadata": {},
   "outputs": [
    {
     "name": "stdout",
     "output_type": "stream",
     "text": [
      "Original Dataset Accuracy :  0.9866666666666667\n",
      "New Dataset Accuracy :  0.98\n"
     ]
    }
   ],
   "source": [
    "def find_acc(y_pred, y_true):\n",
    "    assert y_pred.shape == y_true.shape\n",
    "    corr = 0\n",
    "    for i in range(y_pred.shape[0]):\n",
    "        if y_pred[i] == y_true[i]:\n",
    "            corr += 1\n",
    "    return float(corr)/y_pred.shape[0]\n",
    "\n",
    "svm = SVC()\n",
    "model = svm.fit(data_X, data_Y)\n",
    "y_pred  = model.predict(data_X)\n",
    "acc = find_acc(y_pred, data_Y)\n",
    "print('Original Dataset Accuracy : ', acc)\n",
    "\n",
    "model = svm.fit(new_data_X, data_Y)\n",
    "y_pred  = model.predict(new_data_X)\n",
    "acc = find_acc(y_pred, data_Y)\n",
    "print('New Dataset Accuracy : ', acc)"
   ]
  }
 ],
 "metadata": {
  "kernelspec": {
   "display_name": "Python 3",
   "language": "python",
   "name": "python3"
  },
  "language_info": {
   "codemirror_mode": {
    "name": "ipython",
    "version": 3
   },
   "file_extension": ".py",
   "mimetype": "text/x-python",
   "name": "python",
   "nbconvert_exporter": "python",
   "pygments_lexer": "ipython3",
   "version": "3.5.2"
  }
 },
 "nbformat": 4,
 "nbformat_minor": 2
}
