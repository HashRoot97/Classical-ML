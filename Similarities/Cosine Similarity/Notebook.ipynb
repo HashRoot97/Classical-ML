{
 "cells": [
  {
   "cell_type": "code",
   "execution_count": 1,
   "metadata": {},
   "outputs": [],
   "source": [
    "import numpy as np\n",
    "import pandas as pd"
   ]
  },
  {
   "cell_type": "markdown",
   "metadata": {},
   "source": [
    "## Rating Scale \n",
    "##### 1 - 5 \n",
    "## Movies\n",
    "##### 'Harry Potter 1'\n",
    "##### 'Harry Potter 2'\n",
    "##### 'Harry Potter 3'\n",
    "##### 'Twilight'\n",
    "##### 'Star Wars 1'\n",
    "##### 'Star Wars 2'\n",
    "##### 'Star Wars 3'\n",
    "## Number of Users \n",
    "##### 4"
   ]
  },
  {
   "cell_type": "code",
   "execution_count": 2,
   "metadata": {},
   "outputs": [
    {
     "data": {
      "text/html": [
       "<div>\n",
       "<style scoped>\n",
       "    .dataframe tbody tr th:only-of-type {\n",
       "        vertical-align: middle;\n",
       "    }\n",
       "\n",
       "    .dataframe tbody tr th {\n",
       "        vertical-align: top;\n",
       "    }\n",
       "\n",
       "    .dataframe thead th {\n",
       "        text-align: right;\n",
       "    }\n",
       "</style>\n",
       "<table border=\"1\" class=\"dataframe\">\n",
       "  <thead>\n",
       "    <tr style=\"text-align: right;\">\n",
       "      <th></th>\n",
       "      <th>User</th>\n",
       "      <th>HP1</th>\n",
       "      <th>HP2</th>\n",
       "      <th>HP3</th>\n",
       "      <th>TW</th>\n",
       "      <th>SW1</th>\n",
       "      <th>SW2</th>\n",
       "      <th>SW3</th>\n",
       "    </tr>\n",
       "  </thead>\n",
       "  <tbody>\n",
       "    <tr>\n",
       "      <th>0</th>\n",
       "      <td>0.0</td>\n",
       "      <td>4.0</td>\n",
       "      <td>NaN</td>\n",
       "      <td>NaN</td>\n",
       "      <td>5.0</td>\n",
       "      <td>1.0</td>\n",
       "      <td>NaN</td>\n",
       "      <td>NaN</td>\n",
       "    </tr>\n",
       "    <tr>\n",
       "      <th>1</th>\n",
       "      <td>1.0</td>\n",
       "      <td>5.0</td>\n",
       "      <td>5.0</td>\n",
       "      <td>4.0</td>\n",
       "      <td>NaN</td>\n",
       "      <td>NaN</td>\n",
       "      <td>NaN</td>\n",
       "      <td>NaN</td>\n",
       "    </tr>\n",
       "    <tr>\n",
       "      <th>2</th>\n",
       "      <td>2.0</td>\n",
       "      <td>NaN</td>\n",
       "      <td>NaN</td>\n",
       "      <td>NaN</td>\n",
       "      <td>2.0</td>\n",
       "      <td>4.0</td>\n",
       "      <td>5.0</td>\n",
       "      <td>NaN</td>\n",
       "    </tr>\n",
       "    <tr>\n",
       "      <th>3</th>\n",
       "      <td>3.0</td>\n",
       "      <td>NaN</td>\n",
       "      <td>3.0</td>\n",
       "      <td>NaN</td>\n",
       "      <td>NaN</td>\n",
       "      <td>NaN</td>\n",
       "      <td>NaN</td>\n",
       "      <td>3.0</td>\n",
       "    </tr>\n",
       "  </tbody>\n",
       "</table>\n",
       "</div>"
      ],
      "text/plain": [
       "   User  HP1  HP2  HP3   TW  SW1  SW2  SW3\n",
       "0   0.0  4.0  NaN  NaN  5.0  1.0  NaN  NaN\n",
       "1   1.0  5.0  5.0  4.0  NaN  NaN  NaN  NaN\n",
       "2   2.0  NaN  NaN  NaN  2.0  4.0  5.0  NaN\n",
       "3   3.0  NaN  3.0  NaN  NaN  NaN  NaN  3.0"
      ]
     },
     "execution_count": 2,
     "metadata": {},
     "output_type": "execute_result"
    }
   ],
   "source": [
    "data = [\n",
    "    [0, 4, np.NaN, np.NaN, 5, 1, np.NaN, np.NaN],\n",
    "    [1, 5, 5, 4, np.NaN, np.NaN, np.NaN, np.NaN],\n",
    "    [2, np.NaN, np.NaN, np.NaN, 2, 4, 5, np.NaN],\n",
    "    [3, np.NaN, 3, np.NaN, np.NaN, np.NaN, np.NaN, 3]\n",
    "]\n",
    "\n",
    "data = np.asarray(data)\n",
    "df = pd.DataFrame(data, columns=['User', 'HP1', 'HP2', 'HP3', 'TW', 'SW1', 'SW2', 'SW3'])\n",
    "df.head()"
   ]
  },
  {
   "cell_type": "code",
   "execution_count": 3,
   "metadata": {},
   "outputs": [
    {
     "name": "stdout",
     "output_type": "stream",
     "text": [
      "Similarity of User 0 and User 1 : 0.38\n",
      "Similarity of User 0 and User 2 : 0.32\n"
     ]
    }
   ],
   "source": [
    "def cosine_sim(a, b):\n",
    "    norm_a = 0\n",
    "    norm_b = 0 \n",
    "    for i in range(len(a)):\n",
    "        \n",
    "        if  np.isnan(a[i]):\n",
    "            a[i] = 0\n",
    "        if np.isnan(b[i]):\n",
    "            b[i] = 0\n",
    "            \n",
    "    dot = np.dot(a, b)\n",
    "    for i in range(1, len(a)):\n",
    "        norm_a = norm_a + np.square(a[i])\n",
    "        norm_b = norm_b + np.square(b[i])\n",
    "        \n",
    "    norm_a = np.sqrt(norm_a)\n",
    "    norm_b = np.sqrt(norm_b)\n",
    "    \n",
    "    return dot / (norm_a * norm_b)\n",
    "\n",
    "\n",
    "sim_0_1 = cosine_sim(df.iloc[0], df.iloc[1])\n",
    "sim_0_2 = cosine_sim(df.iloc[0], df.iloc[2])\n",
    "\n",
    "print('Similarity of User {} and User {} : {}'.format(0, 1, np.round(sim_0_1, 2)))\n",
    "print('Similarity of User {} and User {} : {}'.format(0, 2, np.round(sim_0_2, 2)))"
   ]
  }
 ],
 "metadata": {
  "kernelspec": {
   "display_name": "Python 3",
   "language": "python",
   "name": "python3"
  },
  "language_info": {
   "codemirror_mode": {
    "name": "ipython",
    "version": 3
   },
   "file_extension": ".py",
   "mimetype": "text/x-python",
   "name": "python",
   "nbconvert_exporter": "python",
   "pygments_lexer": "ipython3",
   "version": "3.5.2"
  }
 },
 "nbformat": 4,
 "nbformat_minor": 2
}
