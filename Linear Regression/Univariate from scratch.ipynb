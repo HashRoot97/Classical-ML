{
 "cells": [
  {
   "cell_type": "code",
   "execution_count": 1,
   "metadata": {},
   "outputs": [],
   "source": [
    "import numpy as np\n",
    "import matplotlib.pyplot as plt"
   ]
  },
  {
   "cell_type": "markdown",
   "metadata": {},
   "source": [
    "# Vectorized Version"
   ]
  },
  {
   "cell_type": "code",
   "execution_count": 2,
   "metadata": {},
   "outputs": [
    {
     "name": "stdout",
     "output_type": "stream",
     "text": [
      "(100, 1) (100, 1)\n"
     ]
    }
   ],
   "source": [
    "X = np.random.rand(100).astype(np.float32)\n",
    "Y = X*3 + 2\n",
    "Y = np.vectorize(lambda y_data: y_data + np.random.normal(loc=0.0, scale=0.1))(Y)\n",
    "X = X.reshape((100, 1))\n",
    "Y = Y.reshape((100, 1))\n",
    "print(X.shape, Y.shape)"
   ]
  },
  {
   "cell_type": "code",
   "execution_count": 3,
   "metadata": {},
   "outputs": [
    {
     "data": {
      "image/png": "[encoded data removed]",
      "text/plain": [
       "<Figure size 432x288 with 1 Axes>"
      ]
     },
     "metadata": {},
     "output_type": "display_data"
    }
   ],
   "source": [
    "plt.scatter(X[:], Y[:])\n",
    "plt.show()"
   ]
  },
  {
   "cell_type": "code",
   "execution_count": 4,
   "metadata": {},
   "outputs": [
    {
     "name": "stdout",
     "output_type": "stream",
     "text": [
      "(1, 1) (1, 1)\n"
     ]
    }
   ],
   "source": [
    "w = np.asarray([1.0]).reshape((1,1))\n",
    "b = np.asarray([0.2]).reshape((1,1))\n",
    "print(w.shape, b.shape)"
   ]
  },
  {
   "cell_type": "code",
   "execution_count": 7,
   "metadata": {},
   "outputs": [
    {
     "name": "stdout",
     "output_type": "stream",
     "text": [
      "Predicted Values : \n",
      "w = 2.9886 b = 1.9993\n",
      "Actual Values : \n",
      "w = 3.0 b = 2.0\n"
     ]
    }
   ],
   "source": [
    "w = np.asarray([1.0]).reshape((1,1))\n",
    "b = np.asarray([0.2]).reshape((1,1))\n",
    "\n",
    "epochs = 10000\n",
    "learning_rate = 1e-3\n",
    "\n",
    "losses = []\n",
    "\n",
    "for i in range(epochs):\n",
    "    \n",
    "    z = np.add(np.matmul(X, w), b)\n",
    "    \n",
    "    l = np.sum(np.square(Y - z), axis=0, keepdims=True)[0][0]\n",
    "    losses.append(l)\n",
    "    \n",
    "    dz = -2*z*(Y - z)\n",
    "    \n",
    "    dw = X*dz\n",
    "    dw = np.sum(dw, axis=0, keepdims=True)\n",
    "    db = dz\n",
    "    db = np.sum(db, axis=0, keepdims=True)\n",
    "    \n",
    "    w = w - learning_rate*dw\n",
    "    b = b - learning_rate*db\n",
    "\n",
    "print('Predicted Values : \\nw = %.4f b = %.4f' %(w[0][0], b[0][0]))\n",
    "print('Actual Values : \\nw =', 3.00, 'b =', 2.00)"
   ]
  },
  {
   "cell_type": "code",
   "execution_count": 6,
   "metadata": {},
   "outputs": [
    {
     "data": {
      "image/png": "[encoded data removed]",
      "text/plain": [
       "<Figure size 432x288 with 1 Axes>"
      ]
     },
     "metadata": {},
     "output_type": "display_data"
    }
   ],
   "source": [
    "cr, cg, cb = (1.0, 0.0, 0.0)\n",
    "\n",
    "z = np.add(np.matmul(X, w), b)\n",
    "plt.scatter(X, Y)\n",
    "plt.plot(X, z)\n",
    "\n",
    "line = plt.plot(X, z)\n",
    "plt.setp(line, color=(cr, cg, cb))\n",
    "plt.show()"
   ]
  },
  {
   "cell_type": "code",
   "execution_count": null,
   "metadata": {},
   "outputs": [],
   "source": []
  }
 ],
 "metadata": {
  "kernelspec": {
   "display_name": "Python 3",
   "language": "python",
   "name": "python3"
  },
  "language_info": {
   "codemirror_mode": {
    "name": "ipython",
    "version": 3
   },
   "file_extension": ".py",
   "mimetype": "text/x-python",
   "name": "python",
   "nbconvert_exporter": "python",
   "pygments_lexer": "ipython3",
   "version": "3.5.2"
  }
 },
 "nbformat": 4,
 "nbformat_minor": 2
}
