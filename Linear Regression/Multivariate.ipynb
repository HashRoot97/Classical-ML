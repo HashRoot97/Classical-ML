{
 "cells": [
  {
   "cell_type": "code",
   "execution_count": 15,
   "metadata": {},
   "outputs": [],
   "source": [
    "import numpy as np\n",
    "import pandas as pd\n",
    "import matplotlib.pyplot as plt"
   ]
  },
  {
   "cell_type": "code",
   "execution_count": 16,
   "metadata": {},
   "outputs": [],
   "source": [
    "data = pd.read_csv('./data.csv')"
   ]
  },
  {
   "cell_type": "code",
   "execution_count": 17,
   "metadata": {},
   "outputs": [
    {
     "name": "stdout",
     "output_type": "stream",
     "text": [
      "(11914, 16)\n",
      "Index(['Make', 'Model', 'Year', 'Engine Fuel Type', 'Engine HP',\n",
      "       'Engine Cylinders', 'Transmission Type', 'Driven_Wheels',\n",
      "       'Number of Doors', 'Market Category', 'Vehicle Size', 'Vehicle Style',\n",
      "       'highway MPG', 'city mpg', 'Popularity', 'MSRP'],\n",
      "      dtype='object')\n",
      "(8084, 14)\n"
     ]
    },
    {
     "data": {
      "text/html": [
       "<div>\n",
       "<style scoped>\n",
       "    .dataframe tbody tr th:only-of-type {\n",
       "        vertical-align: middle;\n",
       "    }\n",
       "\n",
       "    .dataframe tbody tr th {\n",
       "        vertical-align: top;\n",
       "    }\n",
       "\n",
       "    .dataframe thead th {\n",
       "        text-align: right;\n",
       "    }\n",
       "</style>\n",
       "<table border=\"1\" class=\"dataframe\">\n",
       "  <thead>\n",
       "    <tr style=\"text-align: right;\">\n",
       "      <th></th>\n",
       "      <th>Year</th>\n",
       "      <th>Engine Fuel Type</th>\n",
       "      <th>Engine HP</th>\n",
       "      <th>Engine Cylinders</th>\n",
       "      <th>Transmission Type</th>\n",
       "      <th>Driven_Wheels</th>\n",
       "      <th>Number of Doors</th>\n",
       "      <th>Market Category</th>\n",
       "      <th>Vehicle Size</th>\n",
       "      <th>Vehicle Style</th>\n",
       "      <th>highway MPG</th>\n",
       "      <th>city mpg</th>\n",
       "      <th>Popularity</th>\n",
       "      <th>MSRP</th>\n",
       "    </tr>\n",
       "  </thead>\n",
       "  <tbody>\n",
       "    <tr>\n",
       "      <th>0</th>\n",
       "      <td>2011</td>\n",
       "      <td>premium unleaded (required)</td>\n",
       "      <td>335.0</td>\n",
       "      <td>6.0</td>\n",
       "      <td>MANUAL</td>\n",
       "      <td>rear wheel drive</td>\n",
       "      <td>2.0</td>\n",
       "      <td>Factory Tuner,Luxury,High-Performance</td>\n",
       "      <td>Compact</td>\n",
       "      <td>Coupe</td>\n",
       "      <td>26</td>\n",
       "      <td>19</td>\n",
       "      <td>3916</td>\n",
       "      <td>46135</td>\n",
       "    </tr>\n",
       "    <tr>\n",
       "      <th>1</th>\n",
       "      <td>2011</td>\n",
       "      <td>premium unleaded (required)</td>\n",
       "      <td>300.0</td>\n",
       "      <td>6.0</td>\n",
       "      <td>MANUAL</td>\n",
       "      <td>rear wheel drive</td>\n",
       "      <td>2.0</td>\n",
       "      <td>Luxury,Performance</td>\n",
       "      <td>Compact</td>\n",
       "      <td>Convertible</td>\n",
       "      <td>28</td>\n",
       "      <td>19</td>\n",
       "      <td>3916</td>\n",
       "      <td>40650</td>\n",
       "    </tr>\n",
       "    <tr>\n",
       "      <th>2</th>\n",
       "      <td>2011</td>\n",
       "      <td>premium unleaded (required)</td>\n",
       "      <td>300.0</td>\n",
       "      <td>6.0</td>\n",
       "      <td>MANUAL</td>\n",
       "      <td>rear wheel drive</td>\n",
       "      <td>2.0</td>\n",
       "      <td>Luxury,High-Performance</td>\n",
       "      <td>Compact</td>\n",
       "      <td>Coupe</td>\n",
       "      <td>28</td>\n",
       "      <td>20</td>\n",
       "      <td>3916</td>\n",
       "      <td>36350</td>\n",
       "    </tr>\n",
       "    <tr>\n",
       "      <th>3</th>\n",
       "      <td>2011</td>\n",
       "      <td>premium unleaded (required)</td>\n",
       "      <td>230.0</td>\n",
       "      <td>6.0</td>\n",
       "      <td>MANUAL</td>\n",
       "      <td>rear wheel drive</td>\n",
       "      <td>2.0</td>\n",
       "      <td>Luxury,Performance</td>\n",
       "      <td>Compact</td>\n",
       "      <td>Coupe</td>\n",
       "      <td>28</td>\n",
       "      <td>18</td>\n",
       "      <td>3916</td>\n",
       "      <td>29450</td>\n",
       "    </tr>\n",
       "    <tr>\n",
       "      <th>4</th>\n",
       "      <td>2011</td>\n",
       "      <td>premium unleaded (required)</td>\n",
       "      <td>230.0</td>\n",
       "      <td>6.0</td>\n",
       "      <td>MANUAL</td>\n",
       "      <td>rear wheel drive</td>\n",
       "      <td>2.0</td>\n",
       "      <td>Luxury</td>\n",
       "      <td>Compact</td>\n",
       "      <td>Convertible</td>\n",
       "      <td>28</td>\n",
       "      <td>18</td>\n",
       "      <td>3916</td>\n",
       "      <td>34500</td>\n",
       "    </tr>\n",
       "  </tbody>\n",
       "</table>\n",
       "</div>"
      ],
      "text/plain": [
       "   Year             Engine Fuel Type  Engine HP  Engine Cylinders  \\\n",
       "0  2011  premium unleaded (required)      335.0               6.0   \n",
       "1  2011  premium unleaded (required)      300.0               6.0   \n",
       "2  2011  premium unleaded (required)      300.0               6.0   \n",
       "3  2011  premium unleaded (required)      230.0               6.0   \n",
       "4  2011  premium unleaded (required)      230.0               6.0   \n",
       "\n",
       "  Transmission Type     Driven_Wheels  Number of Doors  \\\n",
       "0            MANUAL  rear wheel drive              2.0   \n",
       "1            MANUAL  rear wheel drive              2.0   \n",
       "2            MANUAL  rear wheel drive              2.0   \n",
       "3            MANUAL  rear wheel drive              2.0   \n",
       "4            MANUAL  rear wheel drive              2.0   \n",
       "\n",
       "                         Market Category Vehicle Size Vehicle Style  \\\n",
       "0  Factory Tuner,Luxury,High-Performance      Compact         Coupe   \n",
       "1                     Luxury,Performance      Compact   Convertible   \n",
       "2                Luxury,High-Performance      Compact         Coupe   \n",
       "3                     Luxury,Performance      Compact         Coupe   \n",
       "4                                 Luxury      Compact   Convertible   \n",
       "\n",
       "   highway MPG  city mpg  Popularity   MSRP  \n",
       "0           26        19        3916  46135  \n",
       "1           28        19        3916  40650  \n",
       "2           28        20        3916  36350  \n",
       "3           28        18        3916  29450  \n",
       "4           28        18        3916  34500  "
      ]
     },
     "execution_count": 17,
     "metadata": {},
     "output_type": "execute_result"
    }
   ],
   "source": [
    "print(data.values.shape)\n",
    "print(data.keys())\n",
    "data = data.dropna()\n",
    "data = data.reset_index(drop=True)\n",
    "data = data.drop(columns=['Model', 'Make'])\n",
    "print(data.values.shape)\n",
    "data.head()"
   ]
  },
  {
   "cell_type": "code",
   "execution_count": 18,
   "metadata": {},
   "outputs": [
    {
     "name": "stdout",
     "output_type": "stream",
     "text": [
      "['Factory Tuner', 'Luxury', 'High-Performance', 'Performance', 'Flex Fuel', 'Hatchback', 'Hybrid', 'Diesel', 'Exotic', 'Crossover']\n",
      "10\n",
      "(8084, 10)\n"
     ]
    },
    {
     "data": {
      "text/html": [
       "<div>\n",
       "<style scoped>\n",
       "    .dataframe tbody tr th:only-of-type {\n",
       "        vertical-align: middle;\n",
       "    }\n",
       "\n",
       "    .dataframe tbody tr th {\n",
       "        vertical-align: top;\n",
       "    }\n",
       "\n",
       "    .dataframe thead th {\n",
       "        text-align: right;\n",
       "    }\n",
       "</style>\n",
       "<table border=\"1\" class=\"dataframe\">\n",
       "  <thead>\n",
       "    <tr style=\"text-align: right;\">\n",
       "      <th></th>\n",
       "      <th>Year</th>\n",
       "      <th>Engine Fuel Type</th>\n",
       "      <th>Engine HP</th>\n",
       "      <th>Engine Cylinders</th>\n",
       "      <th>Transmission Type</th>\n",
       "      <th>Driven_Wheels</th>\n",
       "      <th>Number of Doors</th>\n",
       "      <th>Vehicle Size</th>\n",
       "      <th>Vehicle Style</th>\n",
       "      <th>highway MPG</th>\n",
       "      <th>...</th>\n",
       "      <th>Factory Tuner</th>\n",
       "      <th>Luxury</th>\n",
       "      <th>High-Performance</th>\n",
       "      <th>Performance</th>\n",
       "      <th>Flex Fuel</th>\n",
       "      <th>Hatchback</th>\n",
       "      <th>Hybrid</th>\n",
       "      <th>Diesel</th>\n",
       "      <th>Exotic</th>\n",
       "      <th>Crossover</th>\n",
       "    </tr>\n",
       "  </thead>\n",
       "  <tbody>\n",
       "    <tr>\n",
       "      <th>0</th>\n",
       "      <td>2011</td>\n",
       "      <td>premium unleaded (required)</td>\n",
       "      <td>335.0</td>\n",
       "      <td>6.0</td>\n",
       "      <td>MANUAL</td>\n",
       "      <td>rear wheel drive</td>\n",
       "      <td>2.0</td>\n",
       "      <td>Compact</td>\n",
       "      <td>Coupe</td>\n",
       "      <td>26</td>\n",
       "      <td>...</td>\n",
       "      <td>1.0</td>\n",
       "      <td>1.0</td>\n",
       "      <td>1.0</td>\n",
       "      <td>0.0</td>\n",
       "      <td>0.0</td>\n",
       "      <td>0.0</td>\n",
       "      <td>0.0</td>\n",
       "      <td>0.0</td>\n",
       "      <td>0.0</td>\n",
       "      <td>0.0</td>\n",
       "    </tr>\n",
       "    <tr>\n",
       "      <th>1</th>\n",
       "      <td>2011</td>\n",
       "      <td>premium unleaded (required)</td>\n",
       "      <td>300.0</td>\n",
       "      <td>6.0</td>\n",
       "      <td>MANUAL</td>\n",
       "      <td>rear wheel drive</td>\n",
       "      <td>2.0</td>\n",
       "      <td>Compact</td>\n",
       "      <td>Convertible</td>\n",
       "      <td>28</td>\n",
       "      <td>...</td>\n",
       "      <td>0.0</td>\n",
       "      <td>1.0</td>\n",
       "      <td>0.0</td>\n",
       "      <td>1.0</td>\n",
       "      <td>0.0</td>\n",
       "      <td>0.0</td>\n",
       "      <td>0.0</td>\n",
       "      <td>0.0</td>\n",
       "      <td>0.0</td>\n",
       "      <td>0.0</td>\n",
       "    </tr>\n",
       "    <tr>\n",
       "      <th>2</th>\n",
       "      <td>2011</td>\n",
       "      <td>premium unleaded (required)</td>\n",
       "      <td>300.0</td>\n",
       "      <td>6.0</td>\n",
       "      <td>MANUAL</td>\n",
       "      <td>rear wheel drive</td>\n",
       "      <td>2.0</td>\n",
       "      <td>Compact</td>\n",
       "      <td>Coupe</td>\n",
       "      <td>28</td>\n",
       "      <td>...</td>\n",
       "      <td>0.0</td>\n",
       "      <td>1.0</td>\n",
       "      <td>1.0</td>\n",
       "      <td>0.0</td>\n",
       "      <td>0.0</td>\n",
       "      <td>0.0</td>\n",
       "      <td>0.0</td>\n",
       "      <td>0.0</td>\n",
       "      <td>0.0</td>\n",
       "      <td>0.0</td>\n",
       "    </tr>\n",
       "    <tr>\n",
       "      <th>3</th>\n",
       "      <td>2011</td>\n",
       "      <td>premium unleaded (required)</td>\n",
       "      <td>230.0</td>\n",
       "      <td>6.0</td>\n",
       "      <td>MANUAL</td>\n",
       "      <td>rear wheel drive</td>\n",
       "      <td>2.0</td>\n",
       "      <td>Compact</td>\n",
       "      <td>Coupe</td>\n",
       "      <td>28</td>\n",
       "      <td>...</td>\n",
       "      <td>0.0</td>\n",
       "      <td>1.0</td>\n",
       "      <td>0.0</td>\n",
       "      <td>1.0</td>\n",
       "      <td>0.0</td>\n",
       "      <td>0.0</td>\n",
       "      <td>0.0</td>\n",
       "      <td>0.0</td>\n",
       "      <td>0.0</td>\n",
       "      <td>0.0</td>\n",
       "    </tr>\n",
       "    <tr>\n",
       "      <th>4</th>\n",
       "      <td>2011</td>\n",
       "      <td>premium unleaded (required)</td>\n",
       "      <td>230.0</td>\n",
       "      <td>6.0</td>\n",
       "      <td>MANUAL</td>\n",
       "      <td>rear wheel drive</td>\n",
       "      <td>2.0</td>\n",
       "      <td>Compact</td>\n",
       "      <td>Convertible</td>\n",
       "      <td>28</td>\n",
       "      <td>...</td>\n",
       "      <td>0.0</td>\n",
       "      <td>1.0</td>\n",
       "      <td>0.0</td>\n",
       "      <td>0.0</td>\n",
       "      <td>0.0</td>\n",
       "      <td>0.0</td>\n",
       "      <td>0.0</td>\n",
       "      <td>0.0</td>\n",
       "      <td>0.0</td>\n",
       "      <td>0.0</td>\n",
       "    </tr>\n",
       "  </tbody>\n",
       "</table>\n",
       "<p>5 rows × 23 columns</p>\n",
       "</div>"
      ],
      "text/plain": [
       "   Year             Engine Fuel Type  Engine HP  Engine Cylinders  \\\n",
       "0  2011  premium unleaded (required)      335.0               6.0   \n",
       "1  2011  premium unleaded (required)      300.0               6.0   \n",
       "2  2011  premium unleaded (required)      300.0               6.0   \n",
       "3  2011  premium unleaded (required)      230.0               6.0   \n",
       "4  2011  premium unleaded (required)      230.0               6.0   \n",
       "\n",
       "  Transmission Type     Driven_Wheels  Number of Doors Vehicle Size  \\\n",
       "0            MANUAL  rear wheel drive              2.0      Compact   \n",
       "1            MANUAL  rear wheel drive              2.0      Compact   \n",
       "2            MANUAL  rear wheel drive              2.0      Compact   \n",
       "3            MANUAL  rear wheel drive              2.0      Compact   \n",
       "4            MANUAL  rear wheel drive              2.0      Compact   \n",
       "\n",
       "  Vehicle Style  highway MPG    ...      Factory Tuner  Luxury  \\\n",
       "0         Coupe           26    ...                1.0     1.0   \n",
       "1   Convertible           28    ...                0.0     1.0   \n",
       "2         Coupe           28    ...                0.0     1.0   \n",
       "3         Coupe           28    ...                0.0     1.0   \n",
       "4   Convertible           28    ...                0.0     1.0   \n",
       "\n",
       "   High-Performance  Performance  Flex Fuel  Hatchback  Hybrid  Diesel  \\\n",
       "0               1.0          0.0        0.0        0.0     0.0     0.0   \n",
       "1               0.0          1.0        0.0        0.0     0.0     0.0   \n",
       "2               1.0          0.0        0.0        0.0     0.0     0.0   \n",
       "3               0.0          1.0        0.0        0.0     0.0     0.0   \n",
       "4               0.0          0.0        0.0        0.0     0.0     0.0   \n",
       "\n",
       "   Exotic  Crossover  \n",
       "0     0.0        0.0  \n",
       "1     0.0        0.0  \n",
       "2     0.0        0.0  \n",
       "3     0.0        0.0  \n",
       "4     0.0        0.0  \n",
       "\n",
       "[5 rows x 23 columns]"
      ]
     },
     "execution_count": 18,
     "metadata": {},
     "output_type": "execute_result"
    }
   ],
   "source": [
    "feature = 'Market Category'\n",
    "unq_vals = []\n",
    "new_data = []\n",
    "for val in data[feature]:\n",
    "    tmp = val.split(sep=',')\n",
    "    for i in tmp:\n",
    "        if i not in unq_vals:\n",
    "            unq_vals.append(i)\n",
    "print(unq_vals, len(unq_vals), sep='\\n')\n",
    "count = 0\n",
    "\n",
    "# for i in range(data.shape[0]):\n",
    "#     vals = data[feature].values[i].split(',')\n",
    "#     print(vals, [data[feature][i]])\n",
    "\n",
    "for val in data[feature].values:\n",
    "    tmp_data = [0 for i in range(len(unq_vals))]\n",
    "    tmp = val.split(sep=',')\n",
    "    \n",
    "    for i in range(len(tmp)):\n",
    "        for j in range(len(unq_vals)):\n",
    "            if tmp[i] == unq_vals[j]:\n",
    "                tmp_data[j] = 1.0\n",
    "    new_data.append(tmp_data)\n",
    "    count += 1\n",
    "new_data = np.asarray(new_data)\n",
    "print(new_data.shape)\n",
    "new_df = pd.DataFrame(new_data, columns=unq_vals)\n",
    "data = data.join(new_df)\n",
    "data = data.drop(columns=['Market Category'])\n",
    "data.head()"
   ]
  },
  {
   "cell_type": "code",
   "execution_count": 19,
   "metadata": {},
   "outputs": [
    {
     "data": {
      "text/html": [
       "<div>\n",
       "<style scoped>\n",
       "    .dataframe tbody tr th:only-of-type {\n",
       "        vertical-align: middle;\n",
       "    }\n",
       "\n",
       "    .dataframe tbody tr th {\n",
       "        vertical-align: top;\n",
       "    }\n",
       "\n",
       "    .dataframe thead th {\n",
       "        text-align: right;\n",
       "    }\n",
       "</style>\n",
       "<table border=\"1\" class=\"dataframe\">\n",
       "  <thead>\n",
       "    <tr style=\"text-align: right;\">\n",
       "      <th></th>\n",
       "      <th>Engine Fuel Type</th>\n",
       "      <th>Engine HP</th>\n",
       "      <th>Engine Cylinders</th>\n",
       "      <th>Transmission Type</th>\n",
       "      <th>Driven_Wheels</th>\n",
       "      <th>Number of Doors</th>\n",
       "      <th>Vehicle Size</th>\n",
       "      <th>Vehicle Style</th>\n",
       "      <th>highway MPG</th>\n",
       "      <th>city mpg</th>\n",
       "      <th>...</th>\n",
       "      <th>Hatchback</th>\n",
       "      <th>Hybrid</th>\n",
       "      <th>Diesel</th>\n",
       "      <th>Exotic</th>\n",
       "      <th>Crossover</th>\n",
       "      <th>Year_Bin1</th>\n",
       "      <th>Year_Bin2</th>\n",
       "      <th>Year_Bin3</th>\n",
       "      <th>Year_Bin4</th>\n",
       "      <th>Year_Bin5</th>\n",
       "    </tr>\n",
       "  </thead>\n",
       "  <tbody>\n",
       "    <tr>\n",
       "      <th>0</th>\n",
       "      <td>premium unleaded (required)</td>\n",
       "      <td>335.0</td>\n",
       "      <td>6.0</td>\n",
       "      <td>MANUAL</td>\n",
       "      <td>rear wheel drive</td>\n",
       "      <td>2.0</td>\n",
       "      <td>Compact</td>\n",
       "      <td>Coupe</td>\n",
       "      <td>26</td>\n",
       "      <td>19</td>\n",
       "      <td>...</td>\n",
       "      <td>0.0</td>\n",
       "      <td>0.0</td>\n",
       "      <td>0.0</td>\n",
       "      <td>0.0</td>\n",
       "      <td>0.0</td>\n",
       "      <td>0.0</td>\n",
       "      <td>0.0</td>\n",
       "      <td>0.0</td>\n",
       "      <td>1.0</td>\n",
       "      <td>0.0</td>\n",
       "    </tr>\n",
       "    <tr>\n",
       "      <th>1</th>\n",
       "      <td>premium unleaded (required)</td>\n",
       "      <td>300.0</td>\n",
       "      <td>6.0</td>\n",
       "      <td>MANUAL</td>\n",
       "      <td>rear wheel drive</td>\n",
       "      <td>2.0</td>\n",
       "      <td>Compact</td>\n",
       "      <td>Convertible</td>\n",
       "      <td>28</td>\n",
       "      <td>19</td>\n",
       "      <td>...</td>\n",
       "      <td>0.0</td>\n",
       "      <td>0.0</td>\n",
       "      <td>0.0</td>\n",
       "      <td>0.0</td>\n",
       "      <td>0.0</td>\n",
       "      <td>0.0</td>\n",
       "      <td>0.0</td>\n",
       "      <td>0.0</td>\n",
       "      <td>1.0</td>\n",
       "      <td>0.0</td>\n",
       "    </tr>\n",
       "    <tr>\n",
       "      <th>2</th>\n",
       "      <td>premium unleaded (required)</td>\n",
       "      <td>300.0</td>\n",
       "      <td>6.0</td>\n",
       "      <td>MANUAL</td>\n",
       "      <td>rear wheel drive</td>\n",
       "      <td>2.0</td>\n",
       "      <td>Compact</td>\n",
       "      <td>Coupe</td>\n",
       "      <td>28</td>\n",
       "      <td>20</td>\n",
       "      <td>...</td>\n",
       "      <td>0.0</td>\n",
       "      <td>0.0</td>\n",
       "      <td>0.0</td>\n",
       "      <td>0.0</td>\n",
       "      <td>0.0</td>\n",
       "      <td>0.0</td>\n",
       "      <td>0.0</td>\n",
       "      <td>0.0</td>\n",
       "      <td>1.0</td>\n",
       "      <td>0.0</td>\n",
       "    </tr>\n",
       "    <tr>\n",
       "      <th>3</th>\n",
       "      <td>premium unleaded (required)</td>\n",
       "      <td>230.0</td>\n",
       "      <td>6.0</td>\n",
       "      <td>MANUAL</td>\n",
       "      <td>rear wheel drive</td>\n",
       "      <td>2.0</td>\n",
       "      <td>Compact</td>\n",
       "      <td>Coupe</td>\n",
       "      <td>28</td>\n",
       "      <td>18</td>\n",
       "      <td>...</td>\n",
       "      <td>0.0</td>\n",
       "      <td>0.0</td>\n",
       "      <td>0.0</td>\n",
       "      <td>0.0</td>\n",
       "      <td>0.0</td>\n",
       "      <td>0.0</td>\n",
       "      <td>0.0</td>\n",
       "      <td>0.0</td>\n",
       "      <td>1.0</td>\n",
       "      <td>0.0</td>\n",
       "    </tr>\n",
       "    <tr>\n",
       "      <th>4</th>\n",
       "      <td>premium unleaded (required)</td>\n",
       "      <td>230.0</td>\n",
       "      <td>6.0</td>\n",
       "      <td>MANUAL</td>\n",
       "      <td>rear wheel drive</td>\n",
       "      <td>2.0</td>\n",
       "      <td>Compact</td>\n",
       "      <td>Convertible</td>\n",
       "      <td>28</td>\n",
       "      <td>18</td>\n",
       "      <td>...</td>\n",
       "      <td>0.0</td>\n",
       "      <td>0.0</td>\n",
       "      <td>0.0</td>\n",
       "      <td>0.0</td>\n",
       "      <td>0.0</td>\n",
       "      <td>0.0</td>\n",
       "      <td>0.0</td>\n",
       "      <td>0.0</td>\n",
       "      <td>1.0</td>\n",
       "      <td>0.0</td>\n",
       "    </tr>\n",
       "  </tbody>\n",
       "</table>\n",
       "<p>5 rows × 27 columns</p>\n",
       "</div>"
      ],
      "text/plain": [
       "              Engine Fuel Type  Engine HP  Engine Cylinders Transmission Type  \\\n",
       "0  premium unleaded (required)      335.0               6.0            MANUAL   \n",
       "1  premium unleaded (required)      300.0               6.0            MANUAL   \n",
       "2  premium unleaded (required)      300.0               6.0            MANUAL   \n",
       "3  premium unleaded (required)      230.0               6.0            MANUAL   \n",
       "4  premium unleaded (required)      230.0               6.0            MANUAL   \n",
       "\n",
       "      Driven_Wheels  Number of Doors Vehicle Size Vehicle Style  highway MPG  \\\n",
       "0  rear wheel drive              2.0      Compact         Coupe           26   \n",
       "1  rear wheel drive              2.0      Compact   Convertible           28   \n",
       "2  rear wheel drive              2.0      Compact         Coupe           28   \n",
       "3  rear wheel drive              2.0      Compact         Coupe           28   \n",
       "4  rear wheel drive              2.0      Compact   Convertible           28   \n",
       "\n",
       "   city mpg    ...      Hatchback  Hybrid  Diesel  Exotic  Crossover  \\\n",
       "0        19    ...            0.0     0.0     0.0     0.0        0.0   \n",
       "1        19    ...            0.0     0.0     0.0     0.0        0.0   \n",
       "2        20    ...            0.0     0.0     0.0     0.0        0.0   \n",
       "3        18    ...            0.0     0.0     0.0     0.0        0.0   \n",
       "4        18    ...            0.0     0.0     0.0     0.0        0.0   \n",
       "\n",
       "   Year_Bin1  Year_Bin2  Year_Bin3  Year_Bin4  Year_Bin5  \n",
       "0        0.0        0.0        0.0        1.0        0.0  \n",
       "1        0.0        0.0        0.0        1.0        0.0  \n",
       "2        0.0        0.0        0.0        1.0        0.0  \n",
       "3        0.0        0.0        0.0        1.0        0.0  \n",
       "4        0.0        0.0        0.0        1.0        0.0  \n",
       "\n",
       "[5 rows x 27 columns]"
      ]
     },
     "execution_count": 19,
     "metadata": {},
     "output_type": "execute_result"
    }
   ],
   "source": [
    "feature = 'Year'\n",
    "bin1 = [1990, 2000]\n",
    "bin2 = [2000, 2005]\n",
    "bin3 = [2005, 2010]\n",
    "bin4 = [2010, 2015]\n",
    "bin5 = [2015, 2017]\n",
    "bins = [bin1, bin2, bin3, bin4, bin5]\n",
    "year_bins = []\n",
    "for i in range(data.shape[0]):\n",
    "    tmp = [0 for i in range(len(bins))]\n",
    "    ye = data['Year'][i]\n",
    "    for j in range(len(bins)):\n",
    "        if ye >= bins[j][0] and ye < bins[j][1]:\n",
    "            tmp[j] = 1.0\n",
    "    year_bins.append(tmp)\n",
    "year_bins = np.asarray(year_bins)\n",
    "new_df = pd.DataFrame(year_bins, columns=['Year_Bin'+str(i+1) for i in range(len(bins))])\n",
    "data = data.join(new_df)\n",
    "data = data.drop(columns=['Year'])\n",
    "data.head()"
   ]
  },
  {
   "cell_type": "code",
   "execution_count": 20,
   "metadata": {},
   "outputs": [
    {
     "name": "stdout",
     "output_type": "stream",
     "text": [
      "String Keys - \n",
      "['Engine Fuel Type', 'Transmission Type', 'Driven_Wheels', 'Vehicle Size', 'Vehicle Style']\n",
      "Non-String Keys - \n",
      "['Engine HP', 'Engine Cylinders', 'Number of Doors', 'highway MPG', 'city mpg', 'Popularity', 'MSRP', 'Factory Tuner', 'Luxury', 'High-Performance', 'Performance', 'Flex Fuel', 'Hatchback', 'Hybrid', 'Diesel', 'Exotic', 'Crossover', 'Year_Bin1', 'Year_Bin2', 'Year_Bin3', 'Year_Bin4', 'Year_Bin5']\n"
     ]
    }
   ],
   "source": [
    "non_numeric_features = []\n",
    "numeric_features = []\n",
    "for i in range(len(data.keys())):\n",
    "    if isinstance(data[data.keys()[i]].values[1], str):\n",
    "        non_numeric_features.append(data.keys()[i])\n",
    "    else:\n",
    "        numeric_features.append(data.keys()[i])\n",
    "    \n",
    "print('String Keys - ', non_numeric_features, sep='\\n')\n",
    "print('Non-String Keys - ', numeric_features, sep='\\n')"
   ]
  },
  {
   "cell_type": "code",
   "execution_count": 21,
   "metadata": {},
   "outputs": [],
   "source": [
    "def print_bar(data, feature):\n",
    "    print(feature, ' : ', len(data[feature].unique()))\n",
    "    print(data.values.shape)\n",
    "    counts = data[feature].value_counts()\n",
    "    print(data[feature].unique())\n",
    "    print('Min : {} \\t Max : {}'.format(min(data[feature].unique()), max(data[feature].unique())))\n",
    "    print(counts.values)\n",
    "    plt.bar((['f'+str(i) for i in range(len(data[feature].unique()))]), counts.values)\n",
    "    plt.title(feature)\n",
    "    plt.show()"
   ]
  },
  {
   "cell_type": "code",
   "execution_count": 22,
   "metadata": {},
   "outputs": [
    {
     "name": "stdout",
     "output_type": "stream",
     "text": [
      "Year_Bin1  :  2\n",
      "(8084, 27)\n",
      "[0. 1.]\n",
      "Min : 0.0 \t Max : 1.0\n",
      "[7501  583]\n"
     ]
    },
    {
     "data": {
      "image/png": "[encoded data removed]",
      "text/plain": [
       "<Figure size 432x288 with 1 Axes>"
      ]
     },
     "metadata": {},
     "output_type": "display_data"
    },
    {
     "name": "stdout",
     "output_type": "stream",
     "text": [
      "Year_Bin2  :  2\n",
      "(8084, 27)\n",
      "[0. 1.]\n",
      "Min : 0.0 \t Max : 1.0\n",
      "[7708  376]\n"
     ]
    },
    {
     "data": {
      "image/png": "[encoded data removed]",
      "text/plain": [
       "<Figure size 432x288 with 1 Axes>"
      ]
     },
     "metadata": {},
     "output_type": "display_data"
    },
    {
     "name": "stdout",
     "output_type": "stream",
     "text": [
      "Year_Bin3  :  2\n",
      "(8084, 27)\n",
      "[0. 1.]\n",
      "Min : 0.0 \t Max : 1.0\n",
      "[7159  925]\n"
     ]
    },
    {
     "data": {
      "image/png": "[encoded data removed]",
      "text/plain": [
       "<Figure size 432x288 with 1 Axes>"
      ]
     },
     "metadata": {},
     "output_type": "display_data"
    },
    {
     "name": "stdout",
     "output_type": "stream",
     "text": [
      "Year_Bin4  :  2\n",
      "(8084, 27)\n",
      "[1. 0.]\n",
      "Min : 0.0 \t Max : 1.0\n",
      "[6501 1583]\n"
     ]
    },
    {
     "data": {
      "image/png": "[encoded data removed]",
      "text/plain": [
       "<Figure size 432x288 with 1 Axes>"
      ]
     },
     "metadata": {},
     "output_type": "display_data"
    },
    {
     "name": "stdout",
     "output_type": "stream",
     "text": [
      "Year_Bin5  :  2\n",
      "(8084, 27)\n",
      "[0. 1.]\n",
      "Min : 0.0 \t Max : 1.0\n",
      "[4731 3353]\n"
     ]
    },
    {
     "data": {
      "image/png": "[encoded data removed]",
      "text/plain": [
       "<Figure size 432x288 with 1 Axes>"
      ]
     },
     "metadata": {},
     "output_type": "display_data"
    }
   ],
   "source": [
    "features = ['Year_Bin'+str(i+1) for i in range(len(bins))]\n",
    "for feat in features:\n",
    "    print_bar(data, feat)"
   ]
  },
  {
   "cell_type": "code",
   "execution_count": 23,
   "metadata": {},
   "outputs": [
    {
     "name": "stdout",
     "output_type": "stream",
     "text": [
      "Factory Tuner  :  2\n",
      "(8084, 27)\n",
      "[1. 0.]\n",
      "Min : 0.0 \t Max : 1.0\n",
      "[7466  618]\n"
     ]
    },
    {
     "data": {
      "image/png": "[encoded data removed]",
      "text/plain": [
       "<Figure size 432x288 with 1 Axes>"
      ]
     },
     "metadata": {},
     "output_type": "display_data"
    },
    {
     "name": "stdout",
     "output_type": "stream",
     "text": [
      "Luxury  :  2\n",
      "(8084, 27)\n",
      "[1. 0.]\n",
      "Min : 0.0 \t Max : 1.0\n",
      "[4805 3279]\n"
     ]
    },
    {
     "data": {
      "image/png": "[encoded data removed]",
      "text/plain": [
       "<Figure size 432x288 with 1 Axes>"
      ]
     },
     "metadata": {},
     "output_type": "display_data"
    },
    {
     "name": "stdout",
     "output_type": "stream",
     "text": [
      "High-Performance  :  2\n",
      "(8084, 27)\n",
      "[1. 0.]\n",
      "Min : 0.0 \t Max : 1.0\n",
      "[6706 1378]\n"
     ]
    },
    {
     "data": {
      "image/png": "[encoded data removed]",
      "text/plain": [
       "<Figure size 432x288 with 1 Axes>"
      ]
     },
     "metadata": {},
     "output_type": "display_data"
    },
    {
     "name": "stdout",
     "output_type": "stream",
     "text": [
      "Performance  :  2\n",
      "(8084, 27)\n",
      "[0. 1.]\n",
      "Min : 0.0 \t Max : 1.0\n",
      "[6006 2078]\n"
     ]
    },
    {
     "data": {
      "image/png": "[encoded data removed]",
      "text/plain": [
       "<Figure size 432x288 with 1 Axes>"
      ]
     },
     "metadata": {},
     "output_type": "display_data"
    },
    {
     "name": "stdout",
     "output_type": "stream",
     "text": [
      "Flex Fuel  :  2\n",
      "(8084, 27)\n",
      "[0. 1.]\n",
      "Min : 0.0 \t Max : 1.0\n",
      "[6893 1191]\n"
     ]
    },
    {
     "data": {
      "image/png": "[encoded data removed]",
      "text/plain": [
       "<Figure size 432x288 with 1 Axes>"
      ]
     },
     "metadata": {},
     "output_type": "display_data"
    },
    {
     "name": "stdout",
     "output_type": "stream",
     "text": [
      "Hatchback  :  2\n",
      "(8084, 27)\n",
      "[0. 1.]\n",
      "Min : 0.0 \t Max : 1.0\n",
      "[6903 1181]\n"
     ]
    },
    {
     "data": {
      "image/png": "[encoded data removed]",
      "text/plain": [
       "<Figure size 432x288 with 1 Axes>"
      ]
     },
     "metadata": {},
     "output_type": "display_data"
    },
    {
     "name": "stdout",
     "output_type": "stream",
     "text": [
      "Hybrid  :  2\n",
      "(8084, 27)\n",
      "[0. 1.]\n",
      "Min : 0.0 \t Max : 1.0\n",
      "[7741  343]\n"
     ]
    },
    {
     "data": {
      "image/png": "[encoded data removed]",
      "text/plain": [
       "<Figure size 432x288 with 1 Axes>"
      ]
     },
     "metadata": {},
     "output_type": "display_data"
    },
    {
     "name": "stdout",
     "output_type": "stream",
     "text": [
      "Diesel  :  2\n",
      "(8084, 27)\n",
      "[0. 1.]\n",
      "Min : 0.0 \t Max : 1.0\n",
      "[7879  205]\n"
     ]
    },
    {
     "data": {
      "image/png": "[encoded data removed]",
      "text/plain": [
       "<Figure size 432x288 with 1 Axes>"
      ]
     },
     "metadata": {},
     "output_type": "display_data"
    },
    {
     "name": "stdout",
     "output_type": "stream",
     "text": [
      "Exotic  :  2\n",
      "(8084, 27)\n",
      "[0. 1.]\n",
      "Min : 0.0 \t Max : 1.0\n",
      "[7602  482]\n"
     ]
    },
    {
     "data": {
      "image/png": "[encoded data removed]",
      "text/plain": [
       "<Figure size 432x288 with 1 Axes>"
      ]
     },
     "metadata": {},
     "output_type": "display_data"
    },
    {
     "name": "stdout",
     "output_type": "stream",
     "text": [
      "Crossover  :  2\n",
      "(8084, 27)\n",
      "[0. 1.]\n",
      "Min : 0.0 \t Max : 1.0\n",
      "[6058 2026]\n"
     ]
    },
    {
     "data": {
      "image/png": "[encoded data removed]",
      "text/plain": [
       "<Figure size 432x288 with 1 Axes>"
      ]
     },
     "metadata": {},
     "output_type": "display_data"
    }
   ],
   "source": [
    "features = ['Factory Tuner', 'Luxury', 'High-Performance', 'Performance', 'Flex Fuel', 'Hatchback', 'Hybrid', 'Diesel', 'Exotic', 'Crossover']\n",
    "for val in features:\n",
    "    print_bar(data, val)"
   ]
  },
  {
   "cell_type": "code",
   "execution_count": 24,
   "metadata": {
    "scrolled": true
   },
   "outputs": [
    {
     "name": "stdout",
     "output_type": "stream",
     "text": [
      "Engine Fuel Type  :  8\n",
      "(8084, 27)\n",
      "['premium unleaded (required)' 'regular unleaded'\n",
      " 'premium unleaded (recommended)' 'flex-fuel (unleaded/E85)' 'diesel'\n",
      " 'flex-fuel (premium unleaded recommended/E85)' 'electric'\n",
      " 'flex-fuel (premium unleaded required/E85)']\n",
      "Min : diesel \t Max : regular unleaded\n",
      "[3507 1973 1477  881  153   54   26   13]\n"
     ]
    },
    {
     "data": {
      "image/png": "[encoded data removed]",
      "text/plain": [
       "<Figure size 432x288 with 1 Axes>"
      ]
     },
     "metadata": {},
     "output_type": "display_data"
    },
    {
     "name": "stdout",
     "output_type": "stream",
     "text": [
      "Transmission Type  :  5\n",
      "(8084, 27)\n",
      "['MANUAL' 'AUTOMATIC' 'AUTOMATED_MANUAL' 'DIRECT_DRIVE' 'UNKNOWN']\n",
      "Min : AUTOMATED_MANUAL \t Max : UNKNOWN\n",
      "[5761 1695  610   15    3]\n"
     ]
    },
    {
     "data": {
      "image/png": "[encoded data removed]",
      "text/plain": [
       "<Figure size 432x288 with 1 Axes>"
      ]
     },
     "metadata": {},
     "output_type": "display_data"
    },
    {
     "name": "stdout",
     "output_type": "stream",
     "text": [
      "Driven_Wheels  :  4\n",
      "(8084, 27)\n",
      "['rear wheel drive' 'front wheel drive' 'all wheel drive'\n",
      " 'four wheel drive']\n",
      "Min : all wheel drive \t Max : rear wheel drive\n",
      "[2879 2401 2158  646]\n"
     ]
    },
    {
     "data": {
      "image/png": "[encoded data removed]",
      "text/plain": [
       "<Figure size 432x288 with 1 Axes>"
      ]
     },
     "metadata": {},
     "output_type": "display_data"
    },
    {
     "name": "stdout",
     "output_type": "stream",
     "text": [
      "Vehicle Size  :  3\n",
      "(8084, 27)\n",
      "['Compact' 'Midsize' 'Large']\n",
      "Min : Compact \t Max : Midsize\n",
      "[3187 3039 1858]\n"
     ]
    },
    {
     "data": {
      "image/png": "[encoded data removed]",
      "text/plain": [
       "<Figure size 432x288 with 1 Axes>"
      ]
     },
     "metadata": {},
     "output_type": "display_data"
    },
    {
     "name": "stdout",
     "output_type": "stream",
     "text": [
      "Vehicle Style  :  16\n",
      "(8084, 27)\n",
      "['Coupe' 'Convertible' 'Sedan' 'Wagon' '4dr Hatchback' '2dr Hatchback'\n",
      " '4dr SUV' 'Crew Cab Pickup' 'Extended Cab Pickup' 'Regular Cab Pickup'\n",
      " 'Passenger Minivan' 'Cargo Minivan' '2dr SUV' 'Convertible SUV'\n",
      " 'Cargo Van' 'Passenger Van']\n",
      "Min : 2dr Hatchback \t Max : Wagon\n",
      "[2093 1909  939  678  670  503  357  344  191  176  100   65   34   14\n",
      "    6    5]\n"
     ]
    },
    {
     "data": {
      "image/png": "[encoded data removed]",
      "text/plain": [
       "<Figure size 432x288 with 1 Axes>"
      ]
     },
     "metadata": {},
     "output_type": "display_data"
    }
   ],
   "source": [
    "for feat in non_numeric_features:\n",
    "    print_bar(data, feat)\n"
   ]
  },
  {
   "cell_type": "code",
   "execution_count": 25,
   "metadata": {},
   "outputs": [
    {
     "data": {
      "text/html": [
       "<div>\n",
       "<style scoped>\n",
       "    .dataframe tbody tr th:only-of-type {\n",
       "        vertical-align: middle;\n",
       "    }\n",
       "\n",
       "    .dataframe tbody tr th {\n",
       "        vertical-align: top;\n",
       "    }\n",
       "\n",
       "    .dataframe thead th {\n",
       "        text-align: right;\n",
       "    }\n",
       "</style>\n",
       "<table border=\"1\" class=\"dataframe\">\n",
       "  <thead>\n",
       "    <tr style=\"text-align: right;\">\n",
       "      <th></th>\n",
       "      <th>Engine HP</th>\n",
       "      <th>Engine Cylinders</th>\n",
       "      <th>highway MPG</th>\n",
       "      <th>city mpg</th>\n",
       "      <th>Popularity</th>\n",
       "      <th>MSRP</th>\n",
       "    </tr>\n",
       "  </thead>\n",
       "  <tbody>\n",
       "    <tr>\n",
       "      <th>count</th>\n",
       "      <td>8084.000000</td>\n",
       "      <td>8084.000000</td>\n",
       "      <td>8084.000000</td>\n",
       "      <td>8084.000000</td>\n",
       "      <td>8084.000000</td>\n",
       "      <td>8084.000000</td>\n",
       "    </tr>\n",
       "    <tr>\n",
       "      <th>mean</th>\n",
       "      <td>1.000000</td>\n",
       "      <td>1.000000</td>\n",
       "      <td>1.000000</td>\n",
       "      <td>1.000000</td>\n",
       "      <td>1.000000</td>\n",
       "      <td>1.000000</td>\n",
       "    </tr>\n",
       "    <tr>\n",
       "      <th>std</th>\n",
       "      <td>0.418738</td>\n",
       "      <td>0.326421</td>\n",
       "      <td>0.289689</td>\n",
       "      <td>0.366170</td>\n",
       "      <td>0.942949</td>\n",
       "      <td>1.403822</td>\n",
       "    </tr>\n",
       "    <tr>\n",
       "      <th>min</th>\n",
       "      <td>0.200260</td>\n",
       "      <td>0.000000</td>\n",
       "      <td>0.450266</td>\n",
       "      <td>0.357989</td>\n",
       "      <td>0.001334</td>\n",
       "      <td>0.039942</td>\n",
       "    </tr>\n",
       "    <tr>\n",
       "      <th>25%</th>\n",
       "      <td>0.699090</td>\n",
       "      <td>0.692271</td>\n",
       "      <td>0.825488</td>\n",
       "      <td>0.818260</td>\n",
       "      <td>0.366147</td>\n",
       "      <td>0.517623</td>\n",
       "    </tr>\n",
       "    <tr>\n",
       "      <th>50%</th>\n",
       "      <td>0.961249</td>\n",
       "      <td>1.038407</td>\n",
       "      <td>0.975576</td>\n",
       "      <td>0.920543</td>\n",
       "      <td>0.675605</td>\n",
       "      <td>0.699084</td>\n",
       "    </tr>\n",
       "    <tr>\n",
       "      <th>75%</th>\n",
       "      <td>1.165150</td>\n",
       "      <td>1.038407</td>\n",
       "      <td>1.125665</td>\n",
       "      <td>1.125108</td>\n",
       "      <td>1.339871</td>\n",
       "      <td>0.973036</td>\n",
       "    </tr>\n",
       "    <tr>\n",
       "      <th>max</th>\n",
       "      <td>3.644735</td>\n",
       "      <td>2.769086</td>\n",
       "      <td>13.282846</td>\n",
       "      <td>7.006352</td>\n",
       "      <td>3.772848</td>\n",
       "      <td>41.258076</td>\n",
       "    </tr>\n",
       "  </tbody>\n",
       "</table>\n",
       "</div>"
      ],
      "text/plain": [
       "         Engine HP  Engine Cylinders  highway MPG     city mpg   Popularity  \\\n",
       "count  8084.000000       8084.000000  8084.000000  8084.000000  8084.000000   \n",
       "mean      1.000000          1.000000     1.000000     1.000000     1.000000   \n",
       "std       0.418738          0.326421     0.289689     0.366170     0.942949   \n",
       "min       0.200260          0.000000     0.450266     0.357989     0.001334   \n",
       "25%       0.699090          0.692271     0.825488     0.818260     0.366147   \n",
       "50%       0.961249          1.038407     0.975576     0.920543     0.675605   \n",
       "75%       1.165150          1.038407     1.125665     1.125108     1.339871   \n",
       "max       3.644735          2.769086    13.282846     7.006352     3.772848   \n",
       "\n",
       "              MSRP  \n",
       "count  8084.000000  \n",
       "mean      1.000000  \n",
       "std       1.403822  \n",
       "min       0.039942  \n",
       "25%       0.517623  \n",
       "50%       0.699084  \n",
       "75%       0.973036  \n",
       "max      41.258076  "
      ]
     },
     "execution_count": 25,
     "metadata": {},
     "output_type": "execute_result"
    }
   ],
   "source": [
    "norm_features = ['Engine HP', 'Engine Cylinders', 'highway MPG', 'city mpg', 'Popularity']\n",
    "for feat in norm_features:\n",
    "    data[[feat]] = data[[feat]]/data[[feat]].mean()\n",
    "mean_y_true = data[['MSRP']].mean()\n",
    "data[['MSRP']] = data[['MSRP']] / mean_y_true\n",
    "data[['Engine HP', 'Engine Cylinders', 'highway MPG', 'city mpg', 'Popularity', 'MSRP']].describe()\n"
   ]
  },
  {
   "cell_type": "code",
   "execution_count": 26,
   "metadata": {},
   "outputs": [
    {
     "name": "stdout",
     "output_type": "stream",
     "text": [
      "(8084, 60)\n",
      "Engine HP\n",
      "Engine Cylinders\n",
      "highway MPG\n",
      "city mpg\n",
      "Popularity\n",
      "MSRP\n",
      "Factory Tuner\n",
      "Luxury\n",
      "High-Performance\n",
      "Performance\n",
      "Flex Fuel\n",
      "Hatchback\n",
      "Hybrid\n",
      "Diesel\n",
      "Exotic\n",
      "Crossover\n",
      "Year_Bin1\n",
      "Year_Bin2\n",
      "Year_Bin3\n",
      "Year_Bin4\n",
      "Year_Bin5\n",
      "Engine Fuel Type_diesel\n",
      "Engine Fuel Type_electric\n",
      "Engine Fuel Type_flex-fuel (premium unleaded recommended/E85)\n",
      "Engine Fuel Type_flex-fuel (premium unleaded required/E85)\n",
      "Engine Fuel Type_flex-fuel (unleaded/E85)\n",
      "Engine Fuel Type_premium unleaded (recommended)\n",
      "Engine Fuel Type_premium unleaded (required)\n",
      "Engine Fuel Type_regular unleaded\n",
      "Transmission Type_AUTOMATED_MANUAL\n",
      "Transmission Type_AUTOMATIC\n",
      "Transmission Type_DIRECT_DRIVE\n",
      "Transmission Type_MANUAL\n",
      "Transmission Type_UNKNOWN\n",
      "Driven_Wheels_all wheel drive\n",
      "Driven_Wheels_four wheel drive\n",
      "Driven_Wheels_front wheel drive\n",
      "Driven_Wheels_rear wheel drive\n",
      "Vehicle Size_Compact\n",
      "Vehicle Size_Large\n",
      "Vehicle Size_Midsize\n",
      "Vehicle Style_2dr Hatchback\n",
      "Vehicle Style_2dr SUV\n",
      "Vehicle Style_4dr Hatchback\n",
      "Vehicle Style_4dr SUV\n",
      "Vehicle Style_Cargo Minivan\n",
      "Vehicle Style_Cargo Van\n",
      "Vehicle Style_Convertible\n",
      "Vehicle Style_Convertible SUV\n",
      "Vehicle Style_Coupe\n",
      "Vehicle Style_Crew Cab Pickup\n",
      "Vehicle Style_Extended Cab Pickup\n",
      "Vehicle Style_Passenger Minivan\n",
      "Vehicle Style_Passenger Van\n",
      "Vehicle Style_Regular Cab Pickup\n",
      "Vehicle Style_Sedan\n",
      "Vehicle Style_Wagon\n",
      "Number of Doors_2.0\n",
      "Number of Doors_3.0\n",
      "Number of Doors_4.0\n"
     ]
    },
    {
     "data": {
      "text/html": [
       "<div>\n",
       "<style scoped>\n",
       "    .dataframe tbody tr th:only-of-type {\n",
       "        vertical-align: middle;\n",
       "    }\n",
       "\n",
       "    .dataframe tbody tr th {\n",
       "        vertical-align: top;\n",
       "    }\n",
       "\n",
       "    .dataframe thead th {\n",
       "        text-align: right;\n",
       "    }\n",
       "</style>\n",
       "<table border=\"1\" class=\"dataframe\">\n",
       "  <thead>\n",
       "    <tr style=\"text-align: right;\">\n",
       "      <th></th>\n",
       "      <th>Engine HP</th>\n",
       "      <th>Engine Cylinders</th>\n",
       "      <th>highway MPG</th>\n",
       "      <th>city mpg</th>\n",
       "      <th>Popularity</th>\n",
       "      <th>MSRP</th>\n",
       "      <th>Factory Tuner</th>\n",
       "      <th>Luxury</th>\n",
       "      <th>High-Performance</th>\n",
       "      <th>Performance</th>\n",
       "      <th>...</th>\n",
       "      <th>Vehicle Style_Crew Cab Pickup</th>\n",
       "      <th>Vehicle Style_Extended Cab Pickup</th>\n",
       "      <th>Vehicle Style_Passenger Minivan</th>\n",
       "      <th>Vehicle Style_Passenger Van</th>\n",
       "      <th>Vehicle Style_Regular Cab Pickup</th>\n",
       "      <th>Vehicle Style_Sedan</th>\n",
       "      <th>Vehicle Style_Wagon</th>\n",
       "      <th>Number of Doors_2.0</th>\n",
       "      <th>Number of Doors_3.0</th>\n",
       "      <th>Number of Doors_4.0</th>\n",
       "    </tr>\n",
       "  </thead>\n",
       "  <tbody>\n",
       "    <tr>\n",
       "      <th>0</th>\n",
       "      <td>1.219766</td>\n",
       "      <td>1.038407</td>\n",
       "      <td>0.975576</td>\n",
       "      <td>0.971684</td>\n",
       "      <td>2.611715</td>\n",
       "      <td>0.921361</td>\n",
       "      <td>1.0</td>\n",
       "      <td>1.0</td>\n",
       "      <td>1.0</td>\n",
       "      <td>0.0</td>\n",
       "      <td>...</td>\n",
       "      <td>0</td>\n",
       "      <td>0</td>\n",
       "      <td>0</td>\n",
       "      <td>0</td>\n",
       "      <td>0</td>\n",
       "      <td>0</td>\n",
       "      <td>0</td>\n",
       "      <td>1</td>\n",
       "      <td>0</td>\n",
       "      <td>0</td>\n",
       "    </tr>\n",
       "    <tr>\n",
       "      <th>1</th>\n",
       "      <td>1.092328</td>\n",
       "      <td>1.038407</td>\n",
       "      <td>1.050621</td>\n",
       "      <td>0.971684</td>\n",
       "      <td>2.611715</td>\n",
       "      <td>0.811820</td>\n",
       "      <td>0.0</td>\n",
       "      <td>1.0</td>\n",
       "      <td>0.0</td>\n",
       "      <td>1.0</td>\n",
       "      <td>...</td>\n",
       "      <td>0</td>\n",
       "      <td>0</td>\n",
       "      <td>0</td>\n",
       "      <td>0</td>\n",
       "      <td>0</td>\n",
       "      <td>0</td>\n",
       "      <td>0</td>\n",
       "      <td>1</td>\n",
       "      <td>0</td>\n",
       "      <td>0</td>\n",
       "    </tr>\n",
       "    <tr>\n",
       "      <th>2</th>\n",
       "      <td>1.092328</td>\n",
       "      <td>1.038407</td>\n",
       "      <td>1.050621</td>\n",
       "      <td>1.022825</td>\n",
       "      <td>2.611715</td>\n",
       "      <td>0.725945</td>\n",
       "      <td>0.0</td>\n",
       "      <td>1.0</td>\n",
       "      <td>1.0</td>\n",
       "      <td>0.0</td>\n",
       "      <td>...</td>\n",
       "      <td>0</td>\n",
       "      <td>0</td>\n",
       "      <td>0</td>\n",
       "      <td>0</td>\n",
       "      <td>0</td>\n",
       "      <td>0</td>\n",
       "      <td>0</td>\n",
       "      <td>1</td>\n",
       "      <td>0</td>\n",
       "      <td>0</td>\n",
       "    </tr>\n",
       "    <tr>\n",
       "      <th>3</th>\n",
       "      <td>0.837452</td>\n",
       "      <td>1.038407</td>\n",
       "      <td>1.050621</td>\n",
       "      <td>0.920543</td>\n",
       "      <td>2.611715</td>\n",
       "      <td>0.588145</td>\n",
       "      <td>0.0</td>\n",
       "      <td>1.0</td>\n",
       "      <td>0.0</td>\n",
       "      <td>1.0</td>\n",
       "      <td>...</td>\n",
       "      <td>0</td>\n",
       "      <td>0</td>\n",
       "      <td>0</td>\n",
       "      <td>0</td>\n",
       "      <td>0</td>\n",
       "      <td>0</td>\n",
       "      <td>0</td>\n",
       "      <td>1</td>\n",
       "      <td>0</td>\n",
       "      <td>0</td>\n",
       "    </tr>\n",
       "    <tr>\n",
       "      <th>4</th>\n",
       "      <td>0.837452</td>\n",
       "      <td>1.038407</td>\n",
       "      <td>1.050621</td>\n",
       "      <td>0.920543</td>\n",
       "      <td>2.611715</td>\n",
       "      <td>0.688999</td>\n",
       "      <td>0.0</td>\n",
       "      <td>1.0</td>\n",
       "      <td>0.0</td>\n",
       "      <td>0.0</td>\n",
       "      <td>...</td>\n",
       "      <td>0</td>\n",
       "      <td>0</td>\n",
       "      <td>0</td>\n",
       "      <td>0</td>\n",
       "      <td>0</td>\n",
       "      <td>0</td>\n",
       "      <td>0</td>\n",
       "      <td>1</td>\n",
       "      <td>0</td>\n",
       "      <td>0</td>\n",
       "    </tr>\n",
       "  </tbody>\n",
       "</table>\n",
       "<p>5 rows × 60 columns</p>\n",
       "</div>"
      ],
      "text/plain": [
       "   Engine HP  Engine Cylinders  highway MPG  city mpg  Popularity      MSRP  \\\n",
       "0   1.219766          1.038407     0.975576  0.971684    2.611715  0.921361   \n",
       "1   1.092328          1.038407     1.050621  0.971684    2.611715  0.811820   \n",
       "2   1.092328          1.038407     1.050621  1.022825    2.611715  0.725945   \n",
       "3   0.837452          1.038407     1.050621  0.920543    2.611715  0.588145   \n",
       "4   0.837452          1.038407     1.050621  0.920543    2.611715  0.688999   \n",
       "\n",
       "   Factory Tuner  Luxury  High-Performance  Performance         ...           \\\n",
       "0            1.0     1.0               1.0          0.0         ...            \n",
       "1            0.0     1.0               0.0          1.0         ...            \n",
       "2            0.0     1.0               1.0          0.0         ...            \n",
       "3            0.0     1.0               0.0          1.0         ...            \n",
       "4            0.0     1.0               0.0          0.0         ...            \n",
       "\n",
       "   Vehicle Style_Crew Cab Pickup  Vehicle Style_Extended Cab Pickup  \\\n",
       "0                              0                                  0   \n",
       "1                              0                                  0   \n",
       "2                              0                                  0   \n",
       "3                              0                                  0   \n",
       "4                              0                                  0   \n",
       "\n",
       "   Vehicle Style_Passenger Minivan  Vehicle Style_Passenger Van  \\\n",
       "0                                0                            0   \n",
       "1                                0                            0   \n",
       "2                                0                            0   \n",
       "3                                0                            0   \n",
       "4                                0                            0   \n",
       "\n",
       "   Vehicle Style_Regular Cab Pickup  Vehicle Style_Sedan  Vehicle Style_Wagon  \\\n",
       "0                                 0                    0                    0   \n",
       "1                                 0                    0                    0   \n",
       "2                                 0                    0                    0   \n",
       "3                                 0                    0                    0   \n",
       "4                                 0                    0                    0   \n",
       "\n",
       "   Number of Doors_2.0  Number of Doors_3.0  Number of Doors_4.0  \n",
       "0                    1                    0                    0  \n",
       "1                    1                    0                    0  \n",
       "2                    1                    0                    0  \n",
       "3                    1                    0                    0  \n",
       "4                    1                    0                    0  \n",
       "\n",
       "[5 rows x 60 columns]"
      ]
     },
     "execution_count": 26,
     "metadata": {},
     "output_type": "execute_result"
    }
   ],
   "source": [
    "data = pd.get_dummies(data, dummy_na=False, columns=['Engine Fuel Type', 'Transmission Type', \n",
    "                                               'Driven_Wheels', 'Vehicle Size', 'Vehicle Style', 'Number of Doors'])\n",
    "print(data.shape)\n",
    "for key in data.keys():\n",
    "    print(key)\n",
    "data.head()"
   ]
  },
  {
   "cell_type": "code",
   "execution_count": 27,
   "metadata": {},
   "outputs": [],
   "source": [
    "# X = data.drop(columns=['MSRP'])\n",
    "# Y = data[['MSRP']]\n",
    "# print(X.values.shape, Y_true.values.shape)\n",
    "# from sklearn.linear_model import LinearRegression\n",
    "\n",
    "# lr = LinearRegression()\n",
    "# for i in range(5):\n",
    "#     model = lr.fit(X, Y_true)\n",
    "# print(Y_true.values[0:2])\n",
    "# model.predict(X.values[0:2])"
   ]
  },
  {
   "cell_type": "code",
   "execution_count": 28,
   "metadata": {},
   "outputs": [
    {
     "name": "stdout",
     "output_type": "stream",
     "text": [
      "(8084, 59) (8084, 1)\n",
      "Starting Training...\n",
      "Loss after 1 iterations : 669.5468139648438\n",
      "Loss after 1001 iterations : 3.100541591644287\n",
      "Loss after 2001 iterations : 2.3736746311187744\n",
      "Loss after 3001 iterations : 2.0315942764282227\n",
      "Loss after 4001 iterations : 1.816029667854309\n",
      "Loss after 5001 iterations : 1.663917064666748\n",
      "Loss after 6001 iterations : 1.548828125\n",
      "Loss after 7001 iterations : 1.4573649168014526\n",
      "Loss after 8001 iterations : 1.3820648193359375\n",
      "Loss after 9001 iterations : 1.3184845447540283\n"
     ]
    },
    {
     "data": {
      "image/png": "[encoded data removed]",
      "text/plain": [
       "<Figure size 432x288 with 1 Axes>"
      ]
     },
     "metadata": {},
     "output_type": "display_data"
    }
   ],
   "source": [
    "import tensorflow as tf\n",
    "\n",
    "x_data = data.drop(columns=['MSRP']).values\n",
    "y_data = data[['MSRP']].values\n",
    "numFeatures = x_data.shape[1]\n",
    "print(x_data.shape, y_data.shape)\n",
    "\n",
    "# Placeholders\n",
    "\n",
    "x = tf.placeholder(tf.float32, [None, numFeatures])\n",
    "y_true = tf.placeholder(tf.float32, [None, 1])\n",
    "\n",
    "# Variables\n",
    "\n",
    "weights = tf.Variable(tf.random_normal(\n",
    "    [numFeatures, 1], mean=2.0, stddev=0.5), name='weights')\n",
    "biases = tf.Variable(\n",
    "    tf.random_normal([1], mean=2.0, stddev=0.5), name='biases'\n",
    ")\n",
    "\n",
    "# Model\n",
    "\n",
    "dense_1 = tf.add(tf.matmul(x, weights), biases)\n",
    "\n",
    "loss = tf.reduce_mean(tf.square(dense_1-y_true))\n",
    "\n",
    "optimizer = tf.train.GradientDescentOptimizer(1e-3).minimize(loss)\n",
    "\n",
    "init = tf.global_variables_initializer()\n",
    "\n",
    "# Training\n",
    "epochs = 10000\n",
    "losses = []\n",
    "\n",
    "print('Starting Training...')\n",
    "with tf.Session() as sess:\n",
    "    sess.run(init)\n",
    "    for i in range(epochs):\n",
    "        _, ls = sess.run([optimizer, loss], feed_dict={x: x_data, y_true:y_data})\n",
    "        if i % 1000 == 0:\n",
    "            print('Loss after {} iterations : {}'.format(i+1, ls))\n",
    "        if i % 10 == 0:\n",
    "            losses.append(ls)\n",
    "    prediction = sess.run(dense_1, feed_dict={x:x_data[0:2], y_true:y_data[0:2]})\n",
    "#     print('Predicted : {}'.format(prediction))\n",
    "#     print('Actual Values : {}'.format(y_data[0:2]))\n",
    "\n",
    "# Plots\n",
    "\n",
    "plt.xlabel('Iterations')\n",
    "plt.ylabel('Loss')\n",
    "plt.title('Loss Graph')\n",
    "plt.plot(losses)\n",
    "plt.show()"
   ]
  },
  {
   "cell_type": "code",
   "execution_count": 37,
   "metadata": {},
   "outputs": [
    {
     "data": {
      "text/plain": [
       "array([2065902])"
      ]
     },
     "execution_count": 37,
     "metadata": {},
     "output_type": "execute_result"
    }
   ],
   "source": [
    "max_y_true.values"
   ]
  }
 ],
 "metadata": {
  "kernelspec": {
   "display_name": "Python 3",
   "language": "python",
   "name": "python3"
  },
  "language_info": {
   "codemirror_mode": {
    "name": "ipython",
    "version": 3
   },
   "file_extension": ".py",
   "mimetype": "text/x-python",
   "name": "python",
   "nbconvert_exporter": "python",
   "pygments_lexer": "ipython3",
   "version": "3.5.2"
  }
 },
 "nbformat": 4,
 "nbformat_minor": 2
}
