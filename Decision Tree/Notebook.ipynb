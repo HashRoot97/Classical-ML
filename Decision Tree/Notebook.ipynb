{
 "cells": [
  {
   "cell_type": "code",
   "execution_count": 9,
   "metadata": {},
   "outputs": [],
   "source": [
    "import operator\n",
    "import numpy as np\n",
    "training_data = [\n",
    "   #'Outlook', 'Humidity', 'Wind', 'Play/NotPlay'\n",
    "    ['Sunny', 'High', 'Weak', 0],\n",
    "    ['Sunny', 'High', 'Strong', 0],\n",
    "    ['Overcast', 'High', 'Weak', 1],\n",
    "    ['Rain', 'High', 'Weak', 1],\n",
    "    ['Rain', 'Normal', 'Weak', 1],\n",
    "    ['Rain', 'Normal', 'Strong', 0],\n",
    "    ['Overcast', 'Normal', 'Strong', 1],\n",
    "    ['Sunny', 'High', 'Weak', 0],\n",
    "    ['Sunny', 'Normal', 'Weak', 1],\n",
    "    ['Rain', 'Normal', 'Weak', 1],\n",
    "    ['Sunny', 'Normal', 'Strong', 1],\n",
    "    ['Overcast', 'High', 'Strong', 1],\n",
    "    ['Overcast', 'Normal', 'Weak', 1]\n",
    "]\n",
    "test_data = [\n",
    "    ['Rain', 'High', 'Strong']       #True Class = 0\n",
    "]"
   ]
  },
  {
   "cell_type": "code",
   "execution_count": 10,
   "metadata": {},
   "outputs": [
    {
     "name": "stdout",
     "output_type": "stream",
     "text": [
      "[['Sunny', 'High', 'Weak', 0], ['Sunny', 'High', 'Strong', 0], ['Overcast', 'High', 'Weak', 1], ['Rain', 'High', 'Weak', 1], ['Sunny', 'High', 'Weak', 0], ['Overcast', 'High', 'Strong', 1]]\n",
      "\n",
      "[['Rain', 'Normal', 'Weak', 1], ['Rain', 'Normal', 'Strong', 0], ['Overcast', 'Normal', 'Strong', 1], ['Sunny', 'Normal', 'Weak', 1], ['Rain', 'Normal', 'Weak', 1], ['Sunny', 'Normal', 'Strong', 1], ['Overcast', 'Normal', 'Weak', 1]]\n"
     ]
    }
   ],
   "source": [
    "def is_numeric(value):\n",
    "    return isinstance(value, int) or isinstance(value, float)\n",
    "\n",
    "def get_answer_abs(row, feature, value):\n",
    "    if row[feature] == value:\n",
    "        return True\n",
    "    else:\n",
    "        return False\n",
    "def get_answer_num(row, feature, value):\n",
    "    if row[feature] >= value:\n",
    "        return True\n",
    "    else:\n",
    "        return False\n",
    "\n",
    "def get_split_rows(data, feature, value):\n",
    "    left_rows = []\n",
    "    right_rows = []\n",
    "    for r in data:\n",
    "        if is_numeric(value):\n",
    "            answer = get_answer_num(r, feature, value)\n",
    "        else:\n",
    "            answer = get_answer_abs(r, feature, value)\n",
    "        if answer:\n",
    "            left_rows.append(r)\n",
    "        else:\n",
    "            right_rows.append(r)\n",
    "    return left_rows, right_rows\n",
    "\n",
    "l_rows, r_rows = get_split_rows(training_data, 1, 'High' )\n",
    "print(l_rows, r_rows, sep='\\n\\n')\n"
   ]
  },
  {
   "cell_type": "code",
   "execution_count": 11,
   "metadata": {},
   "outputs": [
    {
     "data": {
      "text/plain": [
       "0.06339814032121721"
      ]
     },
     "execution_count": 11,
     "metadata": {},
     "output_type": "execute_result"
    }
   ],
   "source": [
    "def class_count(rows):\n",
    "    counts = {}\n",
    "    for i in range(len(rows)):\n",
    "        if rows[i][-1] not in counts.keys():\n",
    "            counts[rows[i][-1]] = 1\n",
    "        else:\n",
    "            counts[rows[i][-1]] += 1\n",
    "    return counts\n",
    "def impurity(rows):\n",
    "    counts = class_count(rows)\n",
    "    impurity = 1\n",
    "    for clas in counts:\n",
    "        prob = counts[clas]/len(rows)\n",
    "        impurity -= prob**2\n",
    "    return impurity\n",
    "def info_gain(left, right, data):\n",
    "    p = float(len(left)) / (len(left) + len(right))\n",
    "    return impurity(data) - p * impurity(left) - (1 - p) * impurity(right)\n",
    "\n",
    "info_gain(l_rows, r_rows, training_data)"
   ]
  },
  {
   "cell_type": "code",
   "execution_count": 12,
   "metadata": {},
   "outputs": [
    {
     "name": "stdout",
     "output_type": "stream",
     "text": [
      "--------------------------------------Best Split--------------------------------------\n",
      "[0, 'Sunny']\n",
      "0.10680473372781063\n",
      "[['Sunny', 'High', 'Weak', 0], ['Sunny', 'High', 'Strong', 0], ['Sunny', 'High', 'Weak', 0], ['Sunny', 'Normal', 'Weak', 1], ['Sunny', 'Normal', 'Strong', 1]]\n",
      "[['Overcast', 'High', 'Weak', 1], ['Rain', 'High', 'Weak', 1], ['Rain', 'Normal', 'Weak', 1], ['Rain', 'Normal', 'Strong', 0], ['Overcast', 'Normal', 'Strong', 1], ['Rain', 'Normal', 'Weak', 1], ['Overcast', 'High', 'Strong', 1], ['Overcast', 'Normal', 'Weak', 1]]\n"
     ]
    }
   ],
   "source": [
    "features = ['Outlook', 'Humidity', 'Wind']\n",
    "def find_unique_feat(col):\n",
    "    unq = []\n",
    "    for val in col:\n",
    "        if val not in unq:\n",
    "            unq.append(val)\n",
    "        else:\n",
    "            continue\n",
    "    return unq\n",
    "\n",
    "def find_best_spilt(data):\n",
    "#     print('Starting Data', data, sep='\\n')\n",
    "    gains = []\n",
    "    ques = []\n",
    "    true_rows = []\n",
    "    false_rows = []\n",
    "    \n",
    "    for feat in range(len(data[0])-1):\n",
    "        unq = find_unique_feat([data[k][feat] for k in range(len(data))])\n",
    "        for val in unq:\n",
    "#             print('Is {} = {}'.format(features[feat], val))\n",
    "            l_rows, r_rows = get_split_rows(data, feat, val)\n",
    "            true_rows.append(l_rows)\n",
    "            false_rows.append(r_rows)\n",
    "            \n",
    "            gain = info_gain(l_rows, r_rows, data)\n",
    "#             print(gain)\n",
    "            \n",
    "            ques.append([feat, val])\n",
    "            gains.append(gain)\n",
    "            \n",
    "    best_split = np.argmax(np.asarray(gains))\n",
    "    return ques[best_split], gains[best_split], true_rows[best_split], false_rows[best_split]\n",
    "\n",
    "ques, gain, true_rows, false_rows = find_best_spilt(training_data)\n",
    "print(38*'-'+'Best Split'+38*'-',ques, gain, true_rows, false_rows, sep='\\n')"
   ]
  },
  {
   "cell_type": "code",
   "execution_count": 13,
   "metadata": {},
   "outputs": [],
   "source": [
    "class LeafNode:\n",
    "    def __init__(self, rows):\n",
    "        counts = class_count(rows)\n",
    "        self.pred = max(counts.items(), key=operator.itemgetter(1))[0]\n",
    "class DecisionNode:\n",
    "    def __init__(self, ques, l_branch, r_branch):\n",
    "        self.true_branch = l_branch\n",
    "        self.false_branch = r_branch\n",
    "        self.question = ques"
   ]
  },
  {
   "cell_type": "code",
   "execution_count": 14,
   "metadata": {},
   "outputs": [],
   "source": [
    "def make_tree(data):\n",
    "    \n",
    "    ques, gain, true_rows, false_rows = find_best_spilt(data)\n",
    "    \n",
    "    if gain == 0:\n",
    "        return LeafNode(data)\n",
    "    true_branch = make_tree(true_rows)\n",
    "    false_branch = make_tree(false_rows)\n",
    "    \n",
    "    return DecisionNode(ques, true_branch, false_branch)\n",
    "tree = make_tree(training_data)"
   ]
  },
  {
   "cell_type": "code",
   "execution_count": 15,
   "metadata": {},
   "outputs": [
    {
     "name": "stdout",
     "output_type": "stream",
     "text": [
      "[0, 'Sunny']\n",
      "--> True:\n",
      "  [1, 'High']\n",
      "  --> True:\n",
      "    Predict 0\n",
      "  --> False:\n",
      "    Predict 1\n",
      "--> False:\n",
      "  [2, 'Weak']\n",
      "  --> True:\n",
      "    Predict 1\n",
      "  --> False:\n",
      "    [0, 'Rain']\n",
      "    --> True:\n",
      "      Predict 0\n",
      "    --> False:\n",
      "      Predict 1\n"
     ]
    }
   ],
   "source": [
    "def print_tree(node, spacing=\"\"):\n",
    "    \n",
    "    if isinstance(node, LeafNode):\n",
    "        print (spacing + \"Predict\", node.pred)\n",
    "        return\n",
    "\n",
    "    print (spacing + str(node.question))\n",
    "    \n",
    "    print (spacing + '--> True:')\n",
    "    print_tree(node.true_branch, spacing + \"  \")\n",
    "    \n",
    "    print (spacing + '--> False:')\n",
    "    print_tree(node.false_branch, spacing + \"  \")\n",
    "print_tree(tree)"
   ]
  },
  {
   "cell_type": "code",
   "execution_count": 16,
   "metadata": {},
   "outputs": [
    {
     "data": {
      "text/plain": [
       "0"
      ]
     },
     "execution_count": 16,
     "metadata": {},
     "output_type": "execute_result"
    }
   ],
   "source": [
    "def classify(row, node):\n",
    "    if isinstance(node, LeafNode):\n",
    "        return node.pred\n",
    "    \n",
    "    if get_answer_abs(row, node.question[0], node.question[1]):\n",
    "        return classify(row, node.true_branch)\n",
    "    else:\n",
    "        return classify(row, node.false_branch)\n",
    "classify(test_data[0], tree)"
   ]
  },
  {
   "cell_type": "code",
   "execution_count": 45,
   "metadata": {},
   "outputs": [
    {
     "name": "stdout",
     "output_type": "stream",
     "text": [
      "{'1': 7, '0': 3}\n"
     ]
    }
   ],
   "source": [
    "training_data = [\n",
    "   #'Outlook', 'Humidity', 'Wind', 'Play/NotPlay'\n",
    "    ['Sunny', 'High', 'Weak', 0],\n",
    "    ['Sunny', 'High', 'Strong', 0],\n",
    "    ['Overcast', 'High', 'Weak', 1],\n",
    "    ['Rain', 'High', 'Weak', 1],\n",
    "    ['Rain', 'Normal', 'Weak', 1],\n",
    "    ['Rain', 'Normal', 'Strong', 0],\n",
    "    ['Overcast', 'Normal', 'Strong', 1],\n",
    "    ['Sunny', 'High', 'Weak', 0],\n",
    "    ['Sunny', 'Normal', 'Weak', 1],\n",
    "    ['Rain', 'Normal', 'Weak', 1],\n",
    "    ['Sunny', 'Normal', 'Strong', 1],\n",
    "    ['Overcast', 'High', 'Strong', 1],\n",
    "    ['Overcast', 'Normal', 'Weak', 1]\n",
    "]\n",
    "test_data = [\n",
    "    ['Rain', 'High', 'Strong']       #True Class = 0\n",
    "]\n",
    "num_trees = 10\n",
    "trees = []\n",
    "predictions = {\n",
    "    '0' : 0,\n",
    "    '1' : 0\n",
    "}\n",
    "for k in range(num_trees):\n",
    "    data = []\n",
    "    indexes = [np.random.randint(1, 13) for i in range(np.random.randint(5, 13))]\n",
    "    for index in indexes:\n",
    "        data.append(training_data[index])\n",
    "    tree = make_tree(data)\n",
    "    trees.append(tree)\n",
    "for k in range(num_trees):\n",
    "    y_pred = classify(training_data[3][:-1], trees[k])\n",
    "    if y_pred == 0:\n",
    "        predictions['0'] += 1\n",
    "    elif y_pred == 1:\n",
    "        predictions['1'] += 1\n",
    "print(predictions)"
   ]
  },
  {
   "cell_type": "code",
   "execution_count": null,
   "metadata": {},
   "outputs": [],
   "source": []
  }
 ],
 "metadata": {
  "kernelspec": {
   "display_name": "Python 3",
   "language": "python",
   "name": "python3"
  },
  "language_info": {
   "codemirror_mode": {
    "name": "ipython",
    "version": 3
   },
   "file_extension": ".py",
   "mimetype": "text/x-python",
   "name": "python",
   "nbconvert_exporter": "python",
   "pygments_lexer": "ipython3",
   "version": "3.5.2"
  }
 },
 "nbformat": 4,
 "nbformat_minor": 2
}
