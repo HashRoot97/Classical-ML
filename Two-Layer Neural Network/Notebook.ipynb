{
 "cells": [
  {
   "cell_type": "code",
   "execution_count": 41,
   "metadata": {},
   "outputs": [],
   "source": [
    "import numpy as np\n",
    "import matplotlib.pyplot as plt"
   ]
  },
  {
   "cell_type": "code",
   "execution_count": 42,
   "metadata": {},
   "outputs": [],
   "source": [
    "batch_size = 64\n",
    "Dim_in = 1000\n",
    "Dim_out = 10\n",
    "H = 100\n",
    "learning_rate = 1e-6\n",
    "epochs = 300"
   ]
  },
  {
   "cell_type": "code",
   "execution_count": 43,
   "metadata": {},
   "outputs": [
    {
     "name": "stdout",
     "output_type": "stream",
     "text": [
      "(64, 1000)\n",
      "(64, 10)\n"
     ]
    }
   ],
   "source": [
    "# Inputs and Outputs\n",
    "X = np.random.randn(batch_size, Dim_in)\n",
    "Y_true = np.random.randn(batch_size, Dim_out)\n",
    "print(X.shape, Y_true.shape, sep='\\n')"
   ]
  },
  {
   "cell_type": "code",
   "execution_count": 44,
   "metadata": {},
   "outputs": [
    {
     "name": "stdout",
     "output_type": "stream",
     "text": [
      "(1000, 100)\n",
      "(100, 10)\n"
     ]
    }
   ],
   "source": [
    "# Weights\n",
    "W_1 = np.random.randn(Dim_in, H)\n",
    "W_2 = np.random.randn(H, Dim_out)\n",
    "print(W_1.shape, W_2.shape, sep='\\n')"
   ]
  },
  {
   "cell_type": "code",
   "execution_count": 45,
   "metadata": {},
   "outputs": [],
   "source": [
    "# Model\n",
    "# Dense_OP = np.matmul(X, W_1)\n",
    "# Relu_OP = np.maximum(Dense_OP, 0)\n",
    "# Y_pred = np.matmul(Relu_OP, W_2)\n",
    "\n",
    "# print(Dense_OP.shape, Relu_OP.shape, Y_pred.shape, sep='\\n')"
   ]
  },
  {
   "cell_type": "code",
   "execution_count": 46,
   "metadata": {},
   "outputs": [],
   "source": [
    "# Loss\n",
    "# loss = np.square(Y_pred - Y_true).sum()\n",
    "# print(loss)"
   ]
  },
  {
   "cell_type": "code",
   "execution_count": 47,
   "metadata": {},
   "outputs": [],
   "source": [
    "# Gradients\n",
    "# grad_Y_pred = 2 * (Y_pred - Y_true)\n",
    "# grad_W_2 = Relu_OP.T.dot(grad_Y_pred)\n",
    "# grad_Relu_OP = grad_Y_pred.dot(W_2.T)\n",
    "# grad_H = grad_Relu_OP.copy()\n",
    "# grad_H[H < 0] = 0\n",
    "# grad_W_1 = X.T.dot(grad_H)"
   ]
  },
  {
   "cell_type": "code",
   "execution_count": 48,
   "metadata": {},
   "outputs": [],
   "source": [
    "# Update Weights\n",
    "# W_1 = W_1 - learning_rate*grad_W_1\n",
    "# W_2 = W_2 - learning_rate*grad_W_2"
   ]
  },
  {
   "cell_type": "code",
   "execution_count": 49,
   "metadata": {},
   "outputs": [
    {
     "name": "stdout",
     "output_type": "stream",
     "text": [
      "Loss After 50 epochs : 12196.313373234723\n",
      "Loss After 100 epochs : 316.63376561706247\n",
      "Loss After 150 epochs : 12.662030585761745\n",
      "Loss After 200 epochs : 0.6269990125224203\n",
      "Loss After 250 epochs : 0.03553801475031092\n",
      "Loss After 300 epochs : 0.0022201337998987774\n"
     ]
    }
   ],
   "source": [
    "# Putting it all together\n",
    "losses = []\n",
    "for i in range(epochs+1):\n",
    "    Dense_OP = np.matmul(X, W_1)\n",
    "    Relu_OP = np.maximum(Dense_OP, 0)\n",
    "    Y_pred = np.matmul(Relu_OP, W_2)\n",
    "    \n",
    "    loss = np.square(Y_true - Y_pred).sum()\n",
    "    if i%10 == 0 and i>=50:\n",
    "        losses.append(loss)\n",
    "    if i%50 == 0 and i != 0:\n",
    "        print('Loss After {} epochs : {}'.format(i, loss))\n",
    "\n",
    "    grad_Y_pred = 2 * (Y_pred - Y_true)\n",
    "    grad_W_2 = Relu_OP.T.dot(grad_Y_pred)\n",
    "    grad_Relu_OP = grad_Y_pred.dot(W_2.T)\n",
    "    grad_H = grad_Relu_OP.copy()\n",
    "    grad_H[H < 0] = 0\n",
    "    grad_W_1 = X.T.dot(grad_H)\n",
    "    \n",
    "    W_1 = W_1 - learning_rate*grad_W_1\n",
    "    W_2 = W_2 - learning_rate*grad_W_2\n",
    "\n",
    "    "
   ]
  },
  {
   "cell_type": "code",
   "execution_count": 50,
   "metadata": {},
   "outputs": [
    {
     "data": {
      "image/png": "[encoded data removed]",
      "text/plain": [
       "<Figure size 432x288 with 1 Axes>"
      ]
     },
     "metadata": {},
     "output_type": "display_data"
    }
   ],
   "source": [
    "plt.plot(losses)\n",
    "plt.xlabel('Iterations')\n",
    "plt.ylabel('Loss')\n",
    "plt.show()"
   ]
  },
  {
   "cell_type": "code",
   "execution_count": null,
   "metadata": {},
   "outputs": [],
   "source": []
  }
 ],
 "metadata": {
  "kernelspec": {
   "display_name": "Python 3",
   "language": "python",
   "name": "python3"
  },
  "language_info": {
   "codemirror_mode": {
    "name": "ipython",
    "version": 3
   },
   "file_extension": ".py",
   "mimetype": "text/x-python",
   "name": "python",
   "nbconvert_exporter": "python",
   "pygments_lexer": "ipython3",
   "version": "3.5.2"
  }
 },
 "nbformat": 4,
 "nbformat_minor": 2
}
