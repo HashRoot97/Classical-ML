{
 "cells": [
  {
   "cell_type": "code",
   "execution_count": 1,
   "metadata": {},
   "outputs": [],
   "source": [
    "import numpy as np\n",
    "import matplotlib.pyplot as plt\n",
    "import math\n",
    "import pandas as pd\n",
    "from sklearn.datasets import load_iris"
   ]
  },
  {
   "cell_type": "code",
   "execution_count": 2,
   "metadata": {},
   "outputs": [],
   "source": [
    "def sigmoid(x):\n",
    "    return 1/(1+np.exp(-x))"
   ]
  },
  {
   "cell_type": "code",
   "execution_count": 3,
   "metadata": {},
   "outputs": [],
   "source": [
    "def dsigmoid(x):\n",
    "    return sigmoid(x)*(1-sigmoid(x))"
   ]
  },
  {
   "cell_type": "code",
   "execution_count": 4,
   "metadata": {},
   "outputs": [
    {
     "data": {
      "text/plain": [
       "0.25"
      ]
     },
     "execution_count": 4,
     "metadata": {},
     "output_type": "execute_result"
    }
   ],
   "source": [
    "dsigmoid(0)"
   ]
  },
  {
   "cell_type": "code",
   "execution_count": 5,
   "metadata": {},
   "outputs": [],
   "source": [
    "x = np.arange(-5, 5, 0.01)"
   ]
  },
  {
   "cell_type": "code",
   "execution_count": 6,
   "metadata": {},
   "outputs": [
    {
     "data": {
      "image/png": "[encoded data removed]",
      "text/plain": [
       "<Figure size 432x288 with 1 Axes>"
      ]
     },
     "metadata": {},
     "output_type": "display_data"
    }
   ],
   "source": [
    "sig = sigmoid(x)\n",
    "plt.plot(x, sig, linewidth=2)\n",
    "plt.plot(x, dsigmoid(x), linewidth=3)\n",
    "plt.legend(['sigmoid', 'd(sigmoid)'])\n",
    "plt.show()"
   ]
  },
  {
   "cell_type": "code",
   "execution_count": 53,
   "metadata": {},
   "outputs": [
    {
     "name": "stdout",
     "output_type": "stream",
     "text": [
      "['sepal length (cm)', 'sepal width (cm)', 'petal length (cm)', 'petal width (cm)']\n",
      "['sentosa' 'non-sentosa']\n"
     ]
    }
   ],
   "source": [
    "iris = load_iris()\n",
    "print(iris.feature_names)\n",
    "print(\"['sentosa' 'non-sentosa']\")\n",
    "iris_X, iris_Y = iris.data[:-1,:], iris.target[:-1]\n",
    "numFeatures = iris_X.shape[1]\n",
    "numLabels = 1\n",
    "X = iris_X\n",
    "Y = []\n",
    "for ele in iris_Y:\n",
    "    if ele == 0:\n",
    "        Y.append(1.0)\n",
    "    else:\n",
    "        Y.append(0.0)\n",
    "Y = np.asarray(Y)"
   ]
  },
  {
   "cell_type": "code",
   "execution_count": 85,
   "metadata": {},
   "outputs": [],
   "source": [
    "w = np.random.normal(loc=0.0, scale=0.01, size=(numFeatures, numLabels))\n",
    "b = np.random.normal(loc=0.0, scale=0.01, size=(1, numLabels))\n",
    "epochs = 1000\n",
    "learning_rate = 1e-2\n",
    "losses = []\n",
    "for i in range(epochs):\n",
    "    l = 0\n",
    "    dw = [0 for z in range(numFeatures)]\n",
    "    db = 0\n",
    "    for j in range(149):\n",
    "        \n",
    "        z = np.add(np.matmul(X[j].reshape((1,4)), w), b)\n",
    "        a = sigmoid(z)\n",
    "        l += -(Y[j]*np.log(a) + (1-Y[j])*np.log(1-a))\n",
    "        dz = a - Y[j]\n",
    "        for k in range(numFeatures):\n",
    "            dw[k] += X[j][k]*dz[0][0]\n",
    "            \n",
    "            db += dz[0][0]\n",
    "    \n",
    "    dw = np.asarray(dw)/149\n",
    "    db = np.asarray(db)/149\n",
    "    ls = l/149\n",
    "    dw = dw.reshape((4,1))\n",
    "    w = w - learning_rate*dw\n",
    "    b = b - learning_rate*db\n",
    "    losses.append(ls[0][0])\n",
    "#     print('Loss : {}'.format(l))"
   ]
  },
  {
   "cell_type": "code",
   "execution_count": 86,
   "metadata": {},
   "outputs": [
    {
     "data": {
      "image/png": "[encoded data removed]",
      "text/plain": [
       "<Figure size 432x288 with 1 Axes>"
      ]
     },
     "metadata": {},
     "output_type": "display_data"
    }
   ],
   "source": [
    "plt.plot(losses)\n",
    "plt.show()"
   ]
  },
  {
   "cell_type": "code",
   "execution_count": 100,
   "metadata": {},
   "outputs": [
    {
     "name": "stdout",
     "output_type": "stream",
     "text": [
      "Accuracy :  100.0 %\n"
     ]
    }
   ],
   "source": [
    "Y_pred = []\n",
    "count = 0\n",
    "for i in range(149):\n",
    "    z = np.add(np.matmul(X[i].reshape((1,4)), w), b)\n",
    "    a = sigmoid(z)\n",
    "    \n",
    "    if a[0][0] >= 0.5 and Y[i] == 1:\n",
    "        count += 1\n",
    "        Y_pred.append(1.0)\n",
    "    if a[0][0] < 0.5 and Y[i] == 0:\n",
    "        count += 1\n",
    "        Y_pred.append(0.0)\n",
    "print('Accuracy : ', count/149*100, '%')"
   ]
  }
 ],
 "metadata": {
  "kernelspec": {
   "display_name": "Python 3",
   "language": "python",
   "name": "python3"
  },
  "language_info": {
   "codemirror_mode": {
    "name": "ipython",
    "version": 3
   },
   "file_extension": ".py",
   "mimetype": "text/x-python",
   "name": "python",
   "nbconvert_exporter": "python",
   "pygments_lexer": "ipython3",
   "version": "3.5.2"
  }
 },
 "nbformat": 4,
 "nbformat_minor": 2
}
