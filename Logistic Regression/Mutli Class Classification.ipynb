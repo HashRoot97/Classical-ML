{
 "cells": [
  {
   "cell_type": "markdown",
   "metadata": {},
   "source": [
    "# One - v/s - All "
   ]
  },
  {
   "cell_type": "code",
   "execution_count": 21,
   "metadata": {},
   "outputs": [],
   "source": [
    "import numpy as np\n",
    "import matplotlib.pyplot as plt\n",
    "from sklearn.datasets import load_iris\n",
    "import pandas as pd"
   ]
  },
  {
   "cell_type": "code",
   "execution_count": 44,
   "metadata": {},
   "outputs": [],
   "source": [
    "def sigmoid(x):\n",
    "    return 1/(1+np.exp(-x))"
   ]
  },
  {
   "cell_type": "code",
   "execution_count": 33,
   "metadata": {},
   "outputs": [
    {
     "name": "stdout",
     "output_type": "stream",
     "text": [
      "['sepal length (cm)', 'sepal width (cm)', 'petal length (cm)', 'petal width (cm)']\n",
      "['setosa' 'versicolor' 'virginica']\n",
      "(149, 4) (149, 3)\n"
     ]
    }
   ],
   "source": [
    "iris = load_iris()\n",
    "print(iris.feature_names)\n",
    "print(iris.target_names)\n",
    "iris_X, iris_Y = iris.data[:-1,:], iris.target[:-1]\n",
    "iris_Y = pd.get_dummies(iris_Y).values\n",
    "print(iris_X.shape, iris_Y.shape)\n",
    "numFeatures = iris_X.shape[1]\n",
    "numLabels = 1\n",
    "numClasses = iris_Y.shape[1]"
   ]
  },
  {
   "cell_type": "code",
   "execution_count": 34,
   "metadata": {},
   "outputs": [
    {
     "name": "stdout",
     "output_type": "stream",
     "text": [
      "(149, 4) (4, 1) (1, 1)\n"
     ]
    }
   ],
   "source": [
    "w = np.random.normal(loc=0.0, scale=0.01, size=(numFeatures, 1))\n",
    "b = np.random.normal(loc=0.0, scale=0.01, size=(numLabels, 1))\n",
    "print(X.shape, w.shape, b.shape)"
   ]
  },
  {
   "cell_type": "code",
   "execution_count": 83,
   "metadata": {},
   "outputs": [
    {
     "data": {
      "text/plain": [
       "[<matplotlib.lines.Line2D at 0x7f79f1db8e48>]"
      ]
     },
     "execution_count": 83,
     "metadata": {},
     "output_type": "execute_result"
    },
    {
     "data": {
      "image/png": "[encoded data removed]",
      "text/plain": [
       "<Figure size 432x288 with 1 Axes>"
      ]
     },
     "metadata": {},
     "output_type": "display_data"
    }
   ],
   "source": [
    "w = np.random.normal(loc=0.0, scale=0.01, size=(numFeatures, 1))\n",
    "b = np.random.normal(loc=0.0, scale=0.01, size=(numLabels, 1))\n",
    "W = []\n",
    "B = []\n",
    "for i in range(numClasses):\n",
    "    W.append(w)\n",
    "    B.append(b)\n",
    "W = np.asarray(W)\n",
    "B = np.asarray(B)\n",
    "\n",
    "epochs = 200\n",
    "learning_rate = 1e-1\n",
    "losses = []\n",
    "\n",
    "for i in range(epochs):\n",
    "    ls = []\n",
    "    for j in range(numClasses):\n",
    "        \n",
    "        y = Y[:, j].reshape(149, 1)\n",
    "        \n",
    "        z = np.add(np.matmul(X, W[j]), B[j])\n",
    "        a = sigmoid(z)\n",
    "        \n",
    "        l = np.sum(- (y*np.log(a) + (1-y)*np.log(1-a)), axis=0, keepdims=True).T[0][0]/149\n",
    "        ls.append(l)\n",
    "        dz = a - y\n",
    "        \n",
    "        dw = X*dz\n",
    "        \n",
    "        dw = np.sum(dw, axis=0, keepdims=True).T/149\n",
    "        db = np.sum(dz, axis=0, keepdims=True).T/149\n",
    "        \n",
    "        W[j] = W[j] - learning_rate*dw\n",
    "        B[j] = B[j] - learning_rate*db\n",
    "    losses.append(ls)\n",
    "losses = np.asarray(losses)\n",
    "plt.plot(losses[:, 0])\n",
    "plt.plot(losses[:, 1])\n",
    "plt.plot(losses[:, 2])"
   ]
  },
  {
   "cell_type": "code",
   "execution_count": 72,
   "metadata": {},
   "outputs": [
    {
     "name": "stdout",
     "output_type": "stream",
     "text": [
      "[0 0 0 0 0 0 0 0 0 0 0 0 0 0 0 0 0 0 0 0 0 0 0 0 0 0 0 0 0 0 0 0 0 0 0 0 0\n",
      " 0 0 0 0 0 0 0 0 0 0 0 0 0 0 0 0 0 0 0 0 0 0 0 0 0 0 0 0 0 0 0 0 0 0 0 0 0\n",
      " 0 0 0 0 0 0 0 0 0 0 0 0 0 0 0 0 0 0 0 0 0 0 0 0 0 0 1 1 1 1 1 1 1 1 1 1 1\n",
      " 1 1 1 1 1 1 1 1 1 1 1 1 1 1 1 1 1 1 1 1 1 1 1 1 1 1 1 1 1 1 1 1 1 1 1 1 1\n",
      " 1]\n"
     ]
    }
   ],
   "source": [
    "print(Y[:, 2])"
   ]
  },
  {
   "cell_type": "code",
   "execution_count": null,
   "metadata": {},
   "outputs": [],
   "source": []
  }
 ],
 "metadata": {
  "kernelspec": {
   "display_name": "Python 3",
   "language": "python",
   "name": "python3"
  },
  "language_info": {
   "codemirror_mode": {
    "name": "ipython",
    "version": 3
   },
   "file_extension": ".py",
   "mimetype": "text/x-python",
   "name": "python",
   "nbconvert_exporter": "python",
   "pygments_lexer": "ipython3",
   "version": "3.5.2"
  }
 },
 "nbformat": 4,
 "nbformat_minor": 2
}
