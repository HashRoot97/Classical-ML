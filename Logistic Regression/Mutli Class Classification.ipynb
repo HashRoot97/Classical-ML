{
 "cells": [
  {
   "cell_type": "markdown",
   "metadata": {},
   "source": [
    "# One - v/s - All "
   ]
  },
  {
   "cell_type": "code",
   "execution_count": 118,
   "metadata": {},
   "outputs": [],
   "source": [
    "import numpy as np\n",
    "import matplotlib.pyplot as plt\n",
    "from sklearn.datasets import load_iris\n",
    "import pandas as pd"
   ]
  },
  {
   "cell_type": "code",
   "execution_count": 119,
   "metadata": {},
   "outputs": [],
   "source": [
    "def sigmoid(x):\n",
    "    return 1/(1+np.exp(-x))"
   ]
  },
  {
   "cell_type": "code",
   "execution_count": 120,
   "metadata": {},
   "outputs": [
    {
     "name": "stdout",
     "output_type": "stream",
     "text": [
      "['sepal length (cm)', 'sepal width (cm)', 'petal length (cm)', 'petal width (cm)']\n",
      "['setosa' 'versicolor' 'virginica']\n",
      "(150, 4) (150, 3)\n"
     ]
    },
    {
     "data": {
      "text/html": [
       "<div>\n",
       "<style scoped>\n",
       "    .dataframe tbody tr th:only-of-type {\n",
       "        vertical-align: middle;\n",
       "    }\n",
       "\n",
       "    .dataframe tbody tr th {\n",
       "        vertical-align: top;\n",
       "    }\n",
       "\n",
       "    .dataframe thead th {\n",
       "        text-align: right;\n",
       "    }\n",
       "</style>\n",
       "<table border=\"1\" class=\"dataframe\">\n",
       "  <thead>\n",
       "    <tr style=\"text-align: right;\">\n",
       "      <th></th>\n",
       "      <th>sepal length (cm)</th>\n",
       "      <th>sepal width (cm)</th>\n",
       "      <th>petal length (cm)</th>\n",
       "      <th>petal width (cm)</th>\n",
       "      <th>setosa</th>\n",
       "      <th>versicolor</th>\n",
       "      <th>virginica</th>\n",
       "    </tr>\n",
       "  </thead>\n",
       "  <tbody>\n",
       "    <tr>\n",
       "      <th>0</th>\n",
       "      <td>5.9</td>\n",
       "      <td>3.0</td>\n",
       "      <td>4.2</td>\n",
       "      <td>1.5</td>\n",
       "      <td>0</td>\n",
       "      <td>1</td>\n",
       "      <td>0</td>\n",
       "    </tr>\n",
       "    <tr>\n",
       "      <th>1</th>\n",
       "      <td>6.2</td>\n",
       "      <td>2.2</td>\n",
       "      <td>4.5</td>\n",
       "      <td>1.5</td>\n",
       "      <td>0</td>\n",
       "      <td>1</td>\n",
       "      <td>0</td>\n",
       "    </tr>\n",
       "    <tr>\n",
       "      <th>2</th>\n",
       "      <td>5.0</td>\n",
       "      <td>2.3</td>\n",
       "      <td>3.3</td>\n",
       "      <td>1.0</td>\n",
       "      <td>0</td>\n",
       "      <td>1</td>\n",
       "      <td>0</td>\n",
       "    </tr>\n",
       "    <tr>\n",
       "      <th>3</th>\n",
       "      <td>7.4</td>\n",
       "      <td>2.8</td>\n",
       "      <td>6.1</td>\n",
       "      <td>1.9</td>\n",
       "      <td>0</td>\n",
       "      <td>0</td>\n",
       "      <td>1</td>\n",
       "    </tr>\n",
       "    <tr>\n",
       "      <th>4</th>\n",
       "      <td>6.7</td>\n",
       "      <td>3.3</td>\n",
       "      <td>5.7</td>\n",
       "      <td>2.5</td>\n",
       "      <td>0</td>\n",
       "      <td>0</td>\n",
       "      <td>1</td>\n",
       "    </tr>\n",
       "  </tbody>\n",
       "</table>\n",
       "</div>"
      ],
      "text/plain": [
       "   sepal length (cm)  sepal width (cm)  petal length (cm)  petal width (cm)  \\\n",
       "0                5.9               3.0                4.2               1.5   \n",
       "1                6.2               2.2                4.5               1.5   \n",
       "2                5.0               2.3                3.3               1.0   \n",
       "3                7.4               2.8                6.1               1.9   \n",
       "4                6.7               3.3                5.7               2.5   \n",
       "\n",
       "   setosa  versicolor  virginica  \n",
       "0       0           1          0  \n",
       "1       0           1          0  \n",
       "2       0           1          0  \n",
       "3       0           0          1  \n",
       "4       0           0          1  "
      ]
     },
     "execution_count": 120,
     "metadata": {},
     "output_type": "execute_result"
    }
   ],
   "source": [
    "iris = load_iris()\n",
    "print(iris.feature_names)\n",
    "print(iris.target_names)\n",
    "\n",
    "iris_X, iris_Y = iris.data[:,:], iris.target[:]\n",
    "iris_Y = pd.get_dummies(iris_Y).values\n",
    "df_X = pd.DataFrame(iris_X, columns=iris.feature_names)\n",
    "df_Y = pd.DataFrame(iris_Y, columns=iris.target_names)\n",
    "df = df_X.join(df_Y)\n",
    "df = df.sample(frac=1)\n",
    "df = df.reset_index(drop=True)\n",
    "X = df.values[:, 0:4]\n",
    "Y = df.values[:, 4:]\n",
    "numFeatures = X.shape[1]\n",
    "numLabels = 1\n",
    "numExamples = X.shape[0]\n",
    "print(X.shape, Y.shape)\n",
    "df.head()"
   ]
  },
  {
   "cell_type": "code",
   "execution_count": 121,
   "metadata": {},
   "outputs": [
    {
     "name": "stdout",
     "output_type": "stream",
     "text": [
      "(150, 4) (4, 1) (1, 1)\n"
     ]
    }
   ],
   "source": [
    "w = np.random.normal(loc=0.0, scale=0.01, size=(numFeatures, 1))\n",
    "b = np.random.normal(loc=0.0, scale=0.01, size=(numLabels, 1))\n",
    "print(X.shape, w.shape, b.shape)"
   ]
  },
  {
   "cell_type": "code",
   "execution_count": 135,
   "metadata": {},
   "outputs": [
    {
     "name": "stdout",
     "output_type": "stream",
     "text": [
      "0.06638174982005397\n"
     ]
    },
    {
     "data": {
      "image/png": "[encoded data removed]",
      "text/plain": [
       "<Figure size 432x288 with 1 Axes>"
      ]
     },
     "metadata": {},
     "output_type": "display_data"
    }
   ],
   "source": [
    "w = np.random.normal(loc=0.0, scale=0.01, size=(numFeatures, 1))\n",
    "b = np.random.normal(loc=0.0, scale=0.01, size=(numLabels, 1))\n",
    "W = []\n",
    "B = []\n",
    "numClasses = Y.shape[1]\n",
    "for i in range(numClasses):\n",
    "    W.append(w)\n",
    "    B.append(b)\n",
    "W = np.asarray(W)\n",
    "B = np.asarray(B)\n",
    "\n",
    "epochs = 10000\n",
    "learning_rate = 1e-1\n",
    "losses = []\n",
    "\n",
    "for i in range(epochs):\n",
    "    ls = []\n",
    "    for j in range(numClasses):\n",
    "        \n",
    "        y = Y[:, j].reshape(numExamples, 1)\n",
    "        \n",
    "        z = np.add(np.matmul(X, W[j]), B[j])\n",
    "        a = sigmoid(z)\n",
    "        \n",
    "        l = np.sum(- (y*np.log(a) + (1-y)*np.log(1-a)), axis=0, keepdims=True).T[0][0]/numExamples\n",
    "        ls.append(l)\n",
    "        dz = a - y\n",
    "        \n",
    "        dw = X*dz\n",
    "        \n",
    "        dw = np.sum(dw, axis=0, keepdims=True).T/numExamples\n",
    "        db = np.sum(dz, axis=0, keepdims=True).T/numExamples\n",
    "        \n",
    "        W[j] = W[j] - learning_rate*dw\n",
    "        B[j] = B[j] - learning_rate*db\n",
    "    losses.append(ls)\n",
    "losses = np.asarray(losses)\n",
    "plt.plot(losses[:, 0])\n",
    "plt.plot(losses[:, 1])\n",
    "plt.plot(losses[:, 2])"
   ]
  },
  {
   "cell_type": "code",
   "execution_count": 152,
   "metadata": {},
   "outputs": [
    {
     "name": "stdout",
     "output_type": "stream",
     "text": [
      "Class 1 correct predictions : 150/150\n",
      "Class 2 correct predictions : 111/150\n",
      "Class 3 correct predictions : 147/150\n"
     ]
    }
   ],
   "source": [
    "for i in range(numClasses):\n",
    "    y = Y[:, i].reshape(numExamples, 1)\n",
    "    z = np.add(np.matmul(X, W[i]), B[i])\n",
    "    a = sigmoid(z)\n",
    "    A = []\n",
    "    count = 0\n",
    "    for j in range(numExamples):\n",
    "        if a[j] >= 0.5 and y[j] == 1:\n",
    "            count += 1\n",
    "        elif a[j] < 0.5 and y[j] == 0:\n",
    "            count += 1\n",
    "        \n",
    "    print('Class {} correct predictions : {}/{}'.format(1+i, count, numExamples))"
   ]
  },
  {
   "cell_type": "code",
   "execution_count": null,
   "metadata": {},
   "outputs": [],
   "source": []
  }
 ],
 "metadata": {
  "kernelspec": {
   "display_name": "Python 3",
   "language": "python",
   "name": "python3"
  },
  "language_info": {
   "codemirror_mode": {
    "name": "ipython",
    "version": 3
   },
   "file_extension": ".py",
   "mimetype": "text/x-python",
   "name": "python",
   "nbconvert_exporter": "python",
   "pygments_lexer": "ipython3",
   "version": "3.5.2"
  }
 },
 "nbformat": 4,
 "nbformat_minor": 2
}
