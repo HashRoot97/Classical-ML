{
 "cells": [
  {
   "cell_type": "code",
   "execution_count": 1,
   "metadata": {},
   "outputs": [],
   "source": [
    "import tensorflow as tf\n",
    "import numpy as np\n",
    "import pandas as pd\n",
    "from sklearn.datasets import load_iris\n",
    "from sklearn.model_selection import train_test_split\n",
    "import warnings\n",
    "import matplotlib.pyplot as plt\n",
    "warnings.filterwarnings(\"ignore\")"
   ]
  },
  {
   "cell_type": "code",
   "execution_count": 2,
   "metadata": {},
   "outputs": [
    {
     "name": "stdout",
     "output_type": "stream",
     "text": [
      "['sepal length (cm)', 'sepal width (cm)', 'petal length (cm)', 'petal width (cm)']\n"
     ]
    },
    {
     "data": {
      "text/plain": [
       "((149, 4), (149, 3))"
      ]
     },
     "execution_count": 2,
     "metadata": {},
     "output_type": "execute_result"
    }
   ],
   "source": [
    "iris = load_iris()\n",
    "print(iris.feature_names)\n",
    "iris_X, iris_y = iris.data[:-1,:], iris.target[:-1]\n",
    "iris_Y = pd.get_dummies(iris_y).values\n",
    "iris_X.shape, iris_Y.shape"
   ]
  },
  {
   "cell_type": "code",
   "execution_count": 3,
   "metadata": {},
   "outputs": [
    {
     "data": {
      "text/plain": [
       "((99, 4), (99, 3), (50, 4), (50, 3))"
      ]
     },
     "execution_count": 3,
     "metadata": {},
     "output_type": "execute_result"
    }
   ],
   "source": [
    "train_X, test_X, train_Y, test_Y = train_test_split(iris_X, iris_Y, test_size=0.33, random_state=42)\n",
    "train_X.shape, train_Y.shape, test_X.shape, test_Y.shape"
   ]
  },
  {
   "cell_type": "code",
   "execution_count": 4,
   "metadata": {},
   "outputs": [],
   "source": [
    "numFeatures = train_X.shape[1]\n",
    "num_Labels = train_Y.shape[1]\n",
    "X = tf.placeholder(tf.float32, [None, numFeatures])\n",
    "Y_true = tf.placeholder(tf.float32, [None, num_Labels])"
   ]
  },
  {
   "cell_type": "code",
   "execution_count": 5,
   "metadata": {},
   "outputs": [],
   "source": [
    "weights = tf.Variable(tf.random_normal([numFeatures, num_Labels], mean=0.0, stddev=0.01), name='weights')\n",
    "biases = tf.Variable(tf.random_normal([num_Labels], mean=0.0, stddev=0.01), name='biases')"
   ]
  },
  {
   "cell_type": "code",
   "execution_count": 6,
   "metadata": {},
   "outputs": [],
   "source": [
    "dense_1 = tf.add(tf.matmul(X, weights), biases)\n",
    "activation_1 = tf.sigmoid(dense_1)\n",
    "learning_rate = tf.train.exponential_decay(learning_rate=0.0008, \n",
    "                                          global_step=1,\n",
    "                                          decay_steps=train_X.shape[0],\n",
    "                                          decay_rate=0.95,\n",
    "                                          staircase=True)\n",
    "loss = tf.nn.l2_loss(activation_1 - Y_true, name='loss')\n",
    "optimizer = tf.train.GradientDescentOptimizer(learning_rate).minimize(loss)\n",
    "init = tf.global_variables_initializer()\n",
    "correct_prediction = tf.equal(tf.argmax(activation_1, axis=1), tf.argmax(Y_true, axis=1))\n",
    "accuracy = tf.reduce_mean(tf.cast(correct_prediction, \"float\"))"
   ]
  },
  {
   "cell_type": "code",
   "execution_count": 7,
   "metadata": {},
   "outputs": [
    {
     "name": "stdout",
     "output_type": "stream",
     "text": [
      "Test Accuracy : 1.0\n",
      "\n",
      "Train Accuracy : 0.939393937587738\n"
     ]
    }
   ],
   "source": [
    "epochs = 1000\n",
    "acc_arr = []\n",
    "loss_arr = []\n",
    "steps_arr = []\n",
    "with tf.Session() as sess:\n",
    "    sess.run(init)\n",
    "    feed_dict = {X:train_X, Y_true:train_Y}\n",
    "    for i in range(epochs):\n",
    "        \n",
    "        _, ls, acc = sess.run([optimizer, loss, accuracy], feed_dict=feed_dict)\n",
    "        \n",
    "        if i % 10 == 0:\n",
    "            loss_arr.append(ls)\n",
    "            acc_arr.append(acc)\n",
    "            steps_arr.append(i)\n",
    "            \n",
    "    loss_arr = loss_arr / loss_arr[np.argmax(loss_arr)]\n",
    "    feed_dict = {X: test_X, Y_true:test_Y}\n",
    "    test_acc = sess.run(accuracy, feed_dict=feed_dict)\n",
    "    print('Test Accuracy : {}'.format(test_acc))\n",
    "    feed_dict = {X: train_X, Y_true:train_Y}\n",
    "    train_acc = sess.run(accuracy, feed_dict=feed_dict)\n",
    "    print('\\nTrain Accuracy : {}'.format(train_acc))"
   ]
  },
  {
   "cell_type": "code",
   "execution_count": 8,
   "metadata": {},
   "outputs": [
    {
     "data": {
      "image/png": "[encoded data removed]",
      "text/plain": [
       "<Figure size 432x288 with 1 Axes>"
      ]
     },
     "metadata": {},
     "output_type": "display_data"
    }
   ],
   "source": [
    "plt.plot(steps_arr,acc_arr, 'g')\n",
    "plt.plot(steps_arr, loss_arr, 'r')\n",
    "plt.xlabel('Steps')\n",
    "plt.ylabel('Accuracy/Loss')\n",
    "plt.show()"
   ]
  },
  {
   "cell_type": "code",
   "execution_count": 9,
   "metadata": {},
   "outputs": [
    {
     "data": {
      "text/plain": [
       "((50, 2), (50, 2), (49, 2))"
      ]
     },
     "execution_count": 9,
     "metadata": {},
     "output_type": "execute_result"
    }
   ],
   "source": [
    "iris_Xp = np.reshape(np.array([iris_X[:, 1], iris_X[:, 3]]), (149, 2))\n",
    "iris_Yp = iris_y\n",
    "iris_Xp_centosa = np.array([iris_Xp[d, :] for d in range(iris_Yp.shape[0]) if iris_Yp[d] == 0])\n",
    "iris_Xp_virginica = np.array([iris_Xp[d, :] for d in range(iris_Yp.shape[0]) if iris_Yp[d] == 1])\n",
    "iris_Xp_versicolor = np.array([iris_Xp[d, :] for d in range(iris_Yp.shape[0]) if iris_Yp[d] == 2])\n",
    "iris_Xp_centosa.shape, iris_Xp_virginica.shape, iris_Xp_versicolor.shape"
   ]
  },
  {
   "cell_type": "code",
   "execution_count": 10,
   "metadata": {},
   "outputs": [
    {
     "data": {
      "image/png": "[encoded data removed]",
      "text/plain": [
       "<Figure size 432x288 with 1 Axes>"
      ]
     },
     "metadata": {},
     "output_type": "display_data"
    }
   ],
   "source": [
    "plt.plot(iris_Xp_centosa[:, 0], iris_Xp_centosa[:, 1], 'o')\n",
    "plt.plot(iris_Xp_virginica[:, 0], iris_Xp_virginica[:, 1], 'x')\n",
    "plt.plot(iris_Xp_versicolor[:, 0], iris_Xp_versicolor[:, 1], '+')\n",
    "plt.show()"
   ]
  }
 ],
 "metadata": {
  "kernelspec": {
   "display_name": "Python 3",
   "language": "python",
   "name": "python3"
  },
  "language_info": {
   "codemirror_mode": {
    "name": "ipython",
    "version": 3
   },
   "file_extension": ".py",
   "mimetype": "text/x-python",
   "name": "python",
   "nbconvert_exporter": "python",
   "pygments_lexer": "ipython3",
   "version": "3.5.2"
  }
 },
 "nbformat": 4,
 "nbformat_minor": 2
}
