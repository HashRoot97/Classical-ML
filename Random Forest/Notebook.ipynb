{
 "cells": [
  {
   "cell_type": "code",
   "execution_count": 2,
   "metadata": {},
   "outputs": [],
   "source": [
    "import DecisionTree\n",
    "import numpy as np"
   ]
  },
  {
   "cell_type": "code",
   "execution_count": 74,
   "metadata": {},
   "outputs": [
    {
     "name": "stdout",
     "output_type": "stream",
     "text": [
      "Votes :  {'1': 87, '0': 113}\n",
      "Final Prediction : 0\n"
     ]
    }
   ],
   "source": [
    "training_data = [\n",
    "   #'Outlook', 'Humidity', 'Wind', 'Play/NotPlay'\n",
    "    ['Sunny', 'High', 'Weak', 0],\n",
    "    ['Sunny', 'High', 'Strong', 0],\n",
    "    ['Overcast', 'High', 'Weak', 1],\n",
    "    ['Rain', 'High', 'Weak', 1],\n",
    "    ['Rain', 'Normal', 'Weak', 1],\n",
    "    ['Rain', 'Normal', 'Strong', 0],\n",
    "    ['Overcast', 'Normal', 'Strong', 1],\n",
    "    ['Sunny', 'High', 'Weak', 0],\n",
    "    ['Sunny', 'Normal', 'Weak', 1],\n",
    "    ['Rain', 'Normal', 'Weak', 1],\n",
    "    ['Sunny', 'Normal', 'Strong', 1],\n",
    "    ['Overcast', 'High', 'Strong', 1],\n",
    "    ['Overcast', 'Normal', 'Weak', 1]\n",
    "]\n",
    "test_data = [\n",
    "    ['Rain', 'High', 'Strong']       #True Class = 0\n",
    "]\n",
    "num_trees = 200\n",
    "trees = []\n",
    "predictions = {\n",
    "    '0' : 0,\n",
    "    '1' : 0\n",
    "}\n",
    "for k in range(num_trees):\n",
    "    data = []\n",
    "    indexes = [np.random.randint(1, 13) for i in range(np.random.randint(5, 13))]\n",
    "    for index in indexes:\n",
    "        data.append(training_data[index])\n",
    "    tree = DecisionTree.make_tree(data)\n",
    "    trees.append(tree)\n",
    "for k in range(num_trees):\n",
    "    y_pred = DecisionTree.classify(test_data[0], trees[k])\n",
    "    if y_pred == 0:\n",
    "        predictions['0'] += 1\n",
    "    elif y_pred == 1:\n",
    "        predictions['1'] += 1\n",
    "print('Votes : ', predictions)\n",
    "\n",
    "if predictions['1'] > predictions['0']:\n",
    "    print('Final Prediction : 1')\n",
    "elif predictions['0'] > predictions['1']:\n",
    "    print('Final Prediction : 0')\n",
    "else:\n",
    "    print('Equal Votes Try Again')"
   ]
  }
 ],
 "metadata": {
  "kernelspec": {
   "display_name": "Python 3",
   "language": "python",
   "name": "python3"
  },
  "language_info": {
   "codemirror_mode": {
    "name": "ipython",
    "version": 3
   },
   "file_extension": ".py",
   "mimetype": "text/x-python",
   "name": "python",
   "nbconvert_exporter": "python",
   "pygments_lexer": "ipython3",
   "version": "3.5.2"
  }
 },
 "nbformat": 4,
 "nbformat_minor": 2
}
